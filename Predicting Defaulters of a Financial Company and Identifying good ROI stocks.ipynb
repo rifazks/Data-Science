{
 "cells": [
  {
   "cell_type": "code",
   "execution_count": 1,
   "id": "1b54a93d",
   "metadata": {},
   "outputs": [],
   "source": [
    "# Importing the libraries\n",
    "import numpy as np\n",
    "import matplotlib.pyplot as plt\n",
    "import pandas as pd\n",
    "import seaborn as sns # for making plots with seaborn\n",
    "color = sns.color_palette()\n",
    "import sklearn.metrics as metrics\n",
    "pd.set_option('display.max_columns', None)\n",
    "pd.set_option('display.max_rows', None)\n",
    "from sklearn.metrics import roc_auc_score,roc_curve,classification_report,confusion_matrix,plot_confusion_matrix\n",
    "from sklearn.model_selection import train_test_split\n",
    "from sklearn.linear_model import LogisticRegression\n",
    "import warnings\n",
    "warnings.filterwarnings(\"ignore\")"
   ]
  },
  {
   "cell_type": "code",
   "execution_count": 2,
   "id": "0956ef98",
   "metadata": {},
   "outputs": [
    {
     "data": {
      "text/html": [
       "<div>\n",
       "<style scoped>\n",
       "    .dataframe tbody tr th:only-of-type {\n",
       "        vertical-align: middle;\n",
       "    }\n",
       "\n",
       "    .dataframe tbody tr th {\n",
       "        vertical-align: top;\n",
       "    }\n",
       "\n",
       "    .dataframe thead th {\n",
       "        text-align: right;\n",
       "    }\n",
       "</style>\n",
       "<table border=\"1\" class=\"dataframe\">\n",
       "  <thead>\n",
       "    <tr style=\"text-align: right;\">\n",
       "      <th></th>\n",
       "      <th>Co_Code</th>\n",
       "      <th>Co_Name</th>\n",
       "      <th>Networth Next Year</th>\n",
       "      <th>Equity Paid Up</th>\n",
       "      <th>Networth</th>\n",
       "      <th>Capital Employed</th>\n",
       "      <th>Total Debt</th>\n",
       "      <th>Gross Block</th>\n",
       "      <th>Net Working Capital</th>\n",
       "      <th>Current Assets</th>\n",
       "      <th>Current Liabilities and Provisions</th>\n",
       "      <th>Total Assets/Liabilities</th>\n",
       "      <th>Gross Sales</th>\n",
       "      <th>Net Sales</th>\n",
       "      <th>Other Income</th>\n",
       "      <th>Value Of Output</th>\n",
       "      <th>Cost of Production</th>\n",
       "      <th>Selling Cost</th>\n",
       "      <th>PBIDT</th>\n",
       "      <th>PBDT</th>\n",
       "      <th>PBIT</th>\n",
       "      <th>PBT</th>\n",
       "      <th>PAT</th>\n",
       "      <th>Adjusted PAT</th>\n",
       "      <th>CP</th>\n",
       "      <th>Revenue earnings in forex</th>\n",
       "      <th>Revenue expenses in forex</th>\n",
       "      <th>Capital expenses in forex</th>\n",
       "      <th>Book Value (Unit Curr)</th>\n",
       "      <th>Book Value (Adj.) (Unit Curr)</th>\n",
       "      <th>Market Capitalisation</th>\n",
       "      <th>CEPS (annualised) (Unit Curr)</th>\n",
       "      <th>Cash Flow From Operating Activities</th>\n",
       "      <th>Cash Flow From Investing Activities</th>\n",
       "      <th>Cash Flow From Financing Activities</th>\n",
       "      <th>ROG-Net Worth (%)</th>\n",
       "      <th>ROG-Capital Employed (%)</th>\n",
       "      <th>ROG-Gross Block (%)</th>\n",
       "      <th>ROG-Gross Sales (%)</th>\n",
       "      <th>ROG-Net Sales (%)</th>\n",
       "      <th>ROG-Cost of Production (%)</th>\n",
       "      <th>ROG-Total Assets (%)</th>\n",
       "      <th>ROG-PBIDT (%)</th>\n",
       "      <th>ROG-PBDT (%)</th>\n",
       "      <th>ROG-PBIT (%)</th>\n",
       "      <th>ROG-PBT (%)</th>\n",
       "      <th>ROG-PAT (%)</th>\n",
       "      <th>ROG-CP (%)</th>\n",
       "      <th>ROG-Revenue earnings in forex (%)</th>\n",
       "      <th>ROG-Revenue expenses in forex (%)</th>\n",
       "      <th>ROG-Market Capitalisation (%)</th>\n",
       "      <th>Current Ratio[Latest]</th>\n",
       "      <th>Fixed Assets Ratio[Latest]</th>\n",
       "      <th>Inventory Ratio[Latest]</th>\n",
       "      <th>Debtors Ratio[Latest]</th>\n",
       "      <th>Total Asset Turnover Ratio[Latest]</th>\n",
       "      <th>Interest Cover Ratio[Latest]</th>\n",
       "      <th>PBIDTM (%)[Latest]</th>\n",
       "      <th>PBITM (%)[Latest]</th>\n",
       "      <th>PBDTM (%)[Latest]</th>\n",
       "      <th>CPM (%)[Latest]</th>\n",
       "      <th>APATM (%)[Latest]</th>\n",
       "      <th>Debtors Velocity (Days)</th>\n",
       "      <th>Creditors Velocity (Days)</th>\n",
       "      <th>Inventory Velocity (Days)</th>\n",
       "      <th>Value of Output/Total Assets</th>\n",
       "      <th>Value of Output/Gross Block</th>\n",
       "    </tr>\n",
       "  </thead>\n",
       "  <tbody>\n",
       "    <tr>\n",
       "      <th>0</th>\n",
       "      <td>16974</td>\n",
       "      <td>Hind.Cables</td>\n",
       "      <td>-8021.60</td>\n",
       "      <td>419.36</td>\n",
       "      <td>-7027.48</td>\n",
       "      <td>-1007.24</td>\n",
       "      <td>5936.03</td>\n",
       "      <td>474.30</td>\n",
       "      <td>-1076.34</td>\n",
       "      <td>40.50</td>\n",
       "      <td>1116.85</td>\n",
       "      <td>109.60</td>\n",
       "      <td>0.00</td>\n",
       "      <td>0.00</td>\n",
       "      <td>7.60</td>\n",
       "      <td>-0.07</td>\n",
       "      <td>137.67</td>\n",
       "      <td>0.00</td>\n",
       "      <td>-179.06</td>\n",
       "      <td>-926.52</td>\n",
       "      <td>-185.53</td>\n",
       "      <td>-932.99</td>\n",
       "      <td>-932.99</td>\n",
       "      <td>-937.85</td>\n",
       "      <td>-926.52</td>\n",
       "      <td>0.00</td>\n",
       "      <td>0.00</td>\n",
       "      <td>0.00</td>\n",
       "      <td>-167.58</td>\n",
       "      <td>-167.58</td>\n",
       "      <td>0.00</td>\n",
       "      <td>-22.09</td>\n",
       "      <td>-102.47</td>\n",
       "      <td>1.46</td>\n",
       "      <td>92.58</td>\n",
       "      <td>-15.31</td>\n",
       "      <td>-20.76</td>\n",
       "      <td>-9.75</td>\n",
       "      <td>0.00</td>\n",
       "      <td>0.00</td>\n",
       "      <td>1.38</td>\n",
       "      <td>-25.75</td>\n",
       "      <td>5.23</td>\n",
       "      <td>-19.29</td>\n",
       "      <td>4.43</td>\n",
       "      <td>-19.33</td>\n",
       "      <td>-19.33</td>\n",
       "      <td>-19.29</td>\n",
       "      <td>0.00</td>\n",
       "      <td>0.00</td>\n",
       "      <td>0.00</td>\n",
       "      <td>0.02</td>\n",
       "      <td>0.00</td>\n",
       "      <td>0.00</td>\n",
       "      <td>0.00</td>\n",
       "      <td>0.00</td>\n",
       "      <td>-0.20</td>\n",
       "      <td>0.00</td>\n",
       "      <td>0.00</td>\n",
       "      <td>0.00</td>\n",
       "      <td>0.00</td>\n",
       "      <td>0.00</td>\n",
       "      <td>0</td>\n",
       "      <td>0</td>\n",
       "      <td>45.0</td>\n",
       "      <td>0.00</td>\n",
       "      <td>0.00</td>\n",
       "    </tr>\n",
       "    <tr>\n",
       "      <th>1</th>\n",
       "      <td>21214</td>\n",
       "      <td>Tata Tele. Mah.</td>\n",
       "      <td>-3986.19</td>\n",
       "      <td>1954.93</td>\n",
       "      <td>-2968.08</td>\n",
       "      <td>4458.20</td>\n",
       "      <td>7410.18</td>\n",
       "      <td>9070.86</td>\n",
       "      <td>-1098.88</td>\n",
       "      <td>486.86</td>\n",
       "      <td>1585.74</td>\n",
       "      <td>6043.94</td>\n",
       "      <td>2892.73</td>\n",
       "      <td>2892.73</td>\n",
       "      <td>46.27</td>\n",
       "      <td>2900.71</td>\n",
       "      <td>2572.46</td>\n",
       "      <td>40.51</td>\n",
       "      <td>646.46</td>\n",
       "      <td>-4.32</td>\n",
       "      <td>35.53</td>\n",
       "      <td>-615.25</td>\n",
       "      <td>-615.25</td>\n",
       "      <td>-617.14</td>\n",
       "      <td>-4.32</td>\n",
       "      <td>6.35</td>\n",
       "      <td>143.42</td>\n",
       "      <td>141.17</td>\n",
       "      <td>-15.18</td>\n",
       "      <td>-15.18</td>\n",
       "      <td>1544.39</td>\n",
       "      <td>-0.02</td>\n",
       "      <td>635.91</td>\n",
       "      <td>-785.00</td>\n",
       "      <td>176.93</td>\n",
       "      <td>-26.15</td>\n",
       "      <td>6.30</td>\n",
       "      <td>3.17</td>\n",
       "      <td>5.92</td>\n",
       "      <td>5.92</td>\n",
       "      <td>13.16</td>\n",
       "      <td>6.66</td>\n",
       "      <td>5.24</td>\n",
       "      <td>-108.77</td>\n",
       "      <td>614.89</td>\n",
       "      <td>-9.85</td>\n",
       "      <td>-9.85</td>\n",
       "      <td>-108.77</td>\n",
       "      <td>1.93</td>\n",
       "      <td>34.00</td>\n",
       "      <td>6.61</td>\n",
       "      <td>0.08</td>\n",
       "      <td>0.25</td>\n",
       "      <td>804.44</td>\n",
       "      <td>10.35</td>\n",
       "      <td>0.30</td>\n",
       "      <td>-0.84</td>\n",
       "      <td>-10.30</td>\n",
       "      <td>-39.74</td>\n",
       "      <td>-57.74</td>\n",
       "      <td>-57.74</td>\n",
       "      <td>-87.18</td>\n",
       "      <td>29</td>\n",
       "      <td>101</td>\n",
       "      <td>2.0</td>\n",
       "      <td>0.31</td>\n",
       "      <td>0.24</td>\n",
       "    </tr>\n",
       "    <tr>\n",
       "      <th>2</th>\n",
       "      <td>14852</td>\n",
       "      <td>ABG Shipyard</td>\n",
       "      <td>-3192.58</td>\n",
       "      <td>53.84</td>\n",
       "      <td>506.86</td>\n",
       "      <td>7714.68</td>\n",
       "      <td>6944.54</td>\n",
       "      <td>1281.54</td>\n",
       "      <td>4496.25</td>\n",
       "      <td>9097.64</td>\n",
       "      <td>4601.39</td>\n",
       "      <td>12316.07</td>\n",
       "      <td>392.13</td>\n",
       "      <td>392.13</td>\n",
       "      <td>9.55</td>\n",
       "      <td>301.16</td>\n",
       "      <td>408.51</td>\n",
       "      <td>54.83</td>\n",
       "      <td>-281.92</td>\n",
       "      <td>-1086.71</td>\n",
       "      <td>-381.10</td>\n",
       "      <td>-1185.89</td>\n",
       "      <td>-897.70</td>\n",
       "      <td>-873.39</td>\n",
       "      <td>-798.52</td>\n",
       "      <td>0.00</td>\n",
       "      <td>86.36</td>\n",
       "      <td>2.27</td>\n",
       "      <td>94.14</td>\n",
       "      <td>94.14</td>\n",
       "      <td>1220.81</td>\n",
       "      <td>-148.31</td>\n",
       "      <td>-873.40</td>\n",
       "      <td>-458.27</td>\n",
       "      <td>1187.51</td>\n",
       "      <td>-61.86</td>\n",
       "      <td>15.66</td>\n",
       "      <td>-2.07</td>\n",
       "      <td>-75.87</td>\n",
       "      <td>-75.87</td>\n",
       "      <td>-69.93</td>\n",
       "      <td>-0.78</td>\n",
       "      <td>-169.69</td>\n",
       "      <td>-431.68</td>\n",
       "      <td>-221.85</td>\n",
       "      <td>-300.41</td>\n",
       "      <td>-350.43</td>\n",
       "      <td>-642.67</td>\n",
       "      <td>-100.00</td>\n",
       "      <td>-81.21</td>\n",
       "      <td>-6.31</td>\n",
       "      <td>1.06</td>\n",
       "      <td>0.03</td>\n",
       "      <td>0.01</td>\n",
       "      <td>0.42</td>\n",
       "      <td>0.00</td>\n",
       "      <td>-2.21</td>\n",
       "      <td>-5279.14</td>\n",
       "      <td>-5516.98</td>\n",
       "      <td>-7780.25</td>\n",
       "      <td>-7723.67</td>\n",
       "      <td>-7961.51</td>\n",
       "      <td>97</td>\n",
       "      <td>558</td>\n",
       "      <td>0.0</td>\n",
       "      <td>-0.03</td>\n",
       "      <td>-0.26</td>\n",
       "    </tr>\n",
       "    <tr>\n",
       "      <th>3</th>\n",
       "      <td>2439</td>\n",
       "      <td>GTL</td>\n",
       "      <td>-3054.51</td>\n",
       "      <td>157.30</td>\n",
       "      <td>-623.49</td>\n",
       "      <td>2353.88</td>\n",
       "      <td>2326.05</td>\n",
       "      <td>1033.69</td>\n",
       "      <td>-2612.42</td>\n",
       "      <td>1034.12</td>\n",
       "      <td>3646.54</td>\n",
       "      <td>6000.42</td>\n",
       "      <td>1354.39</td>\n",
       "      <td>1354.39</td>\n",
       "      <td>223.85</td>\n",
       "      <td>1350.14</td>\n",
       "      <td>1326.99</td>\n",
       "      <td>3.34</td>\n",
       "      <td>-213.01</td>\n",
       "      <td>-677.57</td>\n",
       "      <td>-336.73</td>\n",
       "      <td>-801.29</td>\n",
       "      <td>-801.29</td>\n",
       "      <td>-770.18</td>\n",
       "      <td>-677.57</td>\n",
       "      <td>0.89</td>\n",
       "      <td>28.88</td>\n",
       "      <td>0.00</td>\n",
       "      <td>-39.64</td>\n",
       "      <td>-39.64</td>\n",
       "      <td>194.27</td>\n",
       "      <td>-43.08</td>\n",
       "      <td>324.47</td>\n",
       "      <td>17.31</td>\n",
       "      <td>-412.55</td>\n",
       "      <td>-450.67</td>\n",
       "      <td>-40.84</td>\n",
       "      <td>-1.80</td>\n",
       "      <td>8.33</td>\n",
       "      <td>8.33</td>\n",
       "      <td>16.59</td>\n",
       "      <td>-10.12</td>\n",
       "      <td>-203.84</td>\n",
       "      <td>-102.72</td>\n",
       "      <td>-455.28</td>\n",
       "      <td>-80.23</td>\n",
       "      <td>-70.57</td>\n",
       "      <td>-88.52</td>\n",
       "      <td>-52.91</td>\n",
       "      <td>-33.85</td>\n",
       "      <td>-13.94</td>\n",
       "      <td>0.09</td>\n",
       "      <td>5.08</td>\n",
       "      <td>411.15</td>\n",
       "      <td>9.26</td>\n",
       "      <td>0.00</td>\n",
       "      <td>-0.16</td>\n",
       "      <td>-3.33</td>\n",
       "      <td>-7.21</td>\n",
       "      <td>-48.13</td>\n",
       "      <td>-47.70</td>\n",
       "      <td>-51.58</td>\n",
       "      <td>93</td>\n",
       "      <td>63</td>\n",
       "      <td>2.0</td>\n",
       "      <td>0.24</td>\n",
       "      <td>1.90</td>\n",
       "    </tr>\n",
       "    <tr>\n",
       "      <th>4</th>\n",
       "      <td>23505</td>\n",
       "      <td>Bharati Defence</td>\n",
       "      <td>-2967.36</td>\n",
       "      <td>50.30</td>\n",
       "      <td>-1070.83</td>\n",
       "      <td>4675.33</td>\n",
       "      <td>5740.90</td>\n",
       "      <td>1084.20</td>\n",
       "      <td>1836.23</td>\n",
       "      <td>4685.81</td>\n",
       "      <td>2849.58</td>\n",
       "      <td>7524.91</td>\n",
       "      <td>38.72</td>\n",
       "      <td>38.72</td>\n",
       "      <td>9.82</td>\n",
       "      <td>38.72</td>\n",
       "      <td>186.29</td>\n",
       "      <td>1.97</td>\n",
       "      <td>-647.86</td>\n",
       "      <td>-944.42</td>\n",
       "      <td>-710.13</td>\n",
       "      <td>-1006.69</td>\n",
       "      <td>-864.58</td>\n",
       "      <td>-327.77</td>\n",
       "      <td>-802.31</td>\n",
       "      <td>0.00</td>\n",
       "      <td>15.62</td>\n",
       "      <td>0.00</td>\n",
       "      <td>-212.89</td>\n",
       "      <td>-212.89</td>\n",
       "      <td>113.68</td>\n",
       "      <td>-159.50</td>\n",
       "      <td>-191.54</td>\n",
       "      <td>61.34</td>\n",
       "      <td>143.65</td>\n",
       "      <td>-559.83</td>\n",
       "      <td>-11.76</td>\n",
       "      <td>0.34</td>\n",
       "      <td>-80.61</td>\n",
       "      <td>-80.61</td>\n",
       "      <td>-48.80</td>\n",
       "      <td>-5.81</td>\n",
       "      <td>-40.07</td>\n",
       "      <td>3.28</td>\n",
       "      <td>-38.72</td>\n",
       "      <td>1.87</td>\n",
       "      <td>-2.59</td>\n",
       "      <td>-1.13</td>\n",
       "      <td>-100.00</td>\n",
       "      <td>-91.17</td>\n",
       "      <td>-12.91</td>\n",
       "      <td>0.50</td>\n",
       "      <td>0.05</td>\n",
       "      <td>0.02</td>\n",
       "      <td>1.28</td>\n",
       "      <td>0.01</td>\n",
       "      <td>-0.73</td>\n",
       "      <td>-295.55</td>\n",
       "      <td>-400.55</td>\n",
       "      <td>-845.88</td>\n",
       "      <td>379.79</td>\n",
       "      <td>274.79</td>\n",
       "      <td>3887</td>\n",
       "      <td>346</td>\n",
       "      <td>0.0</td>\n",
       "      <td>0.01</td>\n",
       "      <td>0.05</td>\n",
       "    </tr>\n",
       "  </tbody>\n",
       "</table>\n",
       "</div>"
      ],
      "text/plain": [
       "   Co_Code          Co_Name  Networth Next Year  Equity Paid Up  Networth  \\\n",
       "0    16974      Hind.Cables            -8021.60          419.36  -7027.48   \n",
       "1    21214  Tata Tele. Mah.            -3986.19         1954.93  -2968.08   \n",
       "2    14852     ABG Shipyard            -3192.58           53.84    506.86   \n",
       "3     2439              GTL            -3054.51          157.30   -623.49   \n",
       "4    23505  Bharati Defence            -2967.36           50.30  -1070.83   \n",
       "\n",
       "   Capital Employed  Total Debt  Gross Block   Net Working Capital   \\\n",
       "0          -1007.24     5936.03        474.30              -1076.34   \n",
       "1           4458.20     7410.18       9070.86              -1098.88   \n",
       "2           7714.68     6944.54       1281.54               4496.25   \n",
       "3           2353.88     2326.05       1033.69              -2612.42   \n",
       "4           4675.33     5740.90       1084.20               1836.23   \n",
       "\n",
       "   Current Assets   Current Liabilities and Provisions   \\\n",
       "0            40.50                              1116.85   \n",
       "1           486.86                              1585.74   \n",
       "2          9097.64                              4601.39   \n",
       "3          1034.12                              3646.54   \n",
       "4          4685.81                              2849.58   \n",
       "\n",
       "   Total Assets/Liabilities   Gross Sales  Net Sales  Other Income  \\\n",
       "0                     109.60         0.00       0.00          7.60   \n",
       "1                    6043.94      2892.73    2892.73         46.27   \n",
       "2                   12316.07       392.13     392.13          9.55   \n",
       "3                    6000.42      1354.39    1354.39        223.85   \n",
       "4                    7524.91        38.72      38.72          9.82   \n",
       "\n",
       "   Value Of Output  Cost of Production  Selling Cost   PBIDT     PBDT    PBIT  \\\n",
       "0            -0.07              137.67          0.00 -179.06  -926.52 -185.53   \n",
       "1          2900.71             2572.46         40.51  646.46    -4.32   35.53   \n",
       "2           301.16              408.51         54.83 -281.92 -1086.71 -381.10   \n",
       "3          1350.14             1326.99          3.34 -213.01  -677.57 -336.73   \n",
       "4            38.72              186.29          1.97 -647.86  -944.42 -710.13   \n",
       "\n",
       "       PBT     PAT  Adjusted PAT      CP  Revenue earnings in forex  \\\n",
       "0  -932.99 -932.99       -937.85 -926.52                       0.00   \n",
       "1  -615.25 -615.25       -617.14   -4.32                       6.35   \n",
       "2 -1185.89 -897.70       -873.39 -798.52                       0.00   \n",
       "3  -801.29 -801.29       -770.18 -677.57                       0.89   \n",
       "4 -1006.69 -864.58       -327.77 -802.31                       0.00   \n",
       "\n",
       "   Revenue expenses in forex  Capital expenses in forex  \\\n",
       "0                       0.00                       0.00   \n",
       "1                     143.42                     141.17   \n",
       "2                      86.36                       2.27   \n",
       "3                      28.88                       0.00   \n",
       "4                      15.62                       0.00   \n",
       "\n",
       "   Book Value (Unit Curr)  Book Value (Adj.) (Unit Curr)  \\\n",
       "0                 -167.58                        -167.58   \n",
       "1                  -15.18                         -15.18   \n",
       "2                   94.14                          94.14   \n",
       "3                  -39.64                         -39.64   \n",
       "4                 -212.89                        -212.89   \n",
       "\n",
       "   Market Capitalisation  CEPS (annualised) (Unit Curr)  \\\n",
       "0                   0.00                         -22.09   \n",
       "1                1544.39                          -0.02   \n",
       "2                1220.81                        -148.31   \n",
       "3                 194.27                         -43.08   \n",
       "4                 113.68                        -159.50   \n",
       "\n",
       "   Cash Flow From Operating Activities  Cash Flow From Investing Activities  \\\n",
       "0                              -102.47                                 1.46   \n",
       "1                               635.91                              -785.00   \n",
       "2                              -873.40                              -458.27   \n",
       "3                               324.47                                17.31   \n",
       "4                              -191.54                                61.34   \n",
       "\n",
       "   Cash Flow From Financing Activities  ROG-Net Worth (%)  \\\n",
       "0                                92.58             -15.31   \n",
       "1                               176.93             -26.15   \n",
       "2                              1187.51             -61.86   \n",
       "3                              -412.55            -450.67   \n",
       "4                               143.65            -559.83   \n",
       "\n",
       "   ROG-Capital Employed (%)  ROG-Gross Block (%)  ROG-Gross Sales (%)  \\\n",
       "0                    -20.76                -9.75                 0.00   \n",
       "1                      6.30                 3.17                 5.92   \n",
       "2                     15.66                -2.07               -75.87   \n",
       "3                    -40.84                -1.80                 8.33   \n",
       "4                    -11.76                 0.34               -80.61   \n",
       "\n",
       "   ROG-Net Sales (%)  ROG-Cost of Production (%)  ROG-Total Assets (%)  \\\n",
       "0               0.00                        1.38                -25.75   \n",
       "1               5.92                       13.16                  6.66   \n",
       "2             -75.87                      -69.93                 -0.78   \n",
       "3               8.33                       16.59                -10.12   \n",
       "4             -80.61                      -48.80                 -5.81   \n",
       "\n",
       "   ROG-PBIDT (%)  ROG-PBDT (%)  ROG-PBIT (%)  ROG-PBT (%)  ROG-PAT (%)  \\\n",
       "0           5.23        -19.29          4.43       -19.33       -19.33   \n",
       "1           5.24       -108.77        614.89        -9.85        -9.85   \n",
       "2        -169.69       -431.68       -221.85      -300.41      -350.43   \n",
       "3        -203.84       -102.72       -455.28       -80.23       -70.57   \n",
       "4         -40.07          3.28        -38.72         1.87        -2.59   \n",
       "\n",
       "   ROG-CP (%)  ROG-Revenue earnings in forex (%)  \\\n",
       "0      -19.29                               0.00   \n",
       "1     -108.77                               1.93   \n",
       "2     -642.67                            -100.00   \n",
       "3      -88.52                             -52.91   \n",
       "4       -1.13                            -100.00   \n",
       "\n",
       "   ROG-Revenue expenses in forex (%)  ROG-Market Capitalisation (%)  \\\n",
       "0                               0.00                           0.00   \n",
       "1                              34.00                           6.61   \n",
       "2                             -81.21                          -6.31   \n",
       "3                             -33.85                         -13.94   \n",
       "4                             -91.17                         -12.91   \n",
       "\n",
       "   Current Ratio[Latest]  Fixed Assets Ratio[Latest]  Inventory Ratio[Latest]  \\\n",
       "0                   0.02                        0.00                     0.00   \n",
       "1                   0.08                        0.25                   804.44   \n",
       "2                   1.06                        0.03                     0.01   \n",
       "3                   0.09                        5.08                   411.15   \n",
       "4                   0.50                        0.05                     0.02   \n",
       "\n",
       "   Debtors Ratio[Latest]  Total Asset Turnover Ratio[Latest]  \\\n",
       "0                   0.00                                0.00   \n",
       "1                  10.35                                0.30   \n",
       "2                   0.42                                0.00   \n",
       "3                   9.26                                0.00   \n",
       "4                   1.28                                0.01   \n",
       "\n",
       "   Interest Cover Ratio[Latest]  PBIDTM (%)[Latest]  PBITM (%)[Latest]  \\\n",
       "0                         -0.20                0.00               0.00   \n",
       "1                         -0.84              -10.30             -39.74   \n",
       "2                         -2.21            -5279.14           -5516.98   \n",
       "3                         -0.16               -3.33              -7.21   \n",
       "4                         -0.73             -295.55            -400.55   \n",
       "\n",
       "   PBDTM (%)[Latest]  CPM (%)[Latest]  APATM (%)[Latest]  \\\n",
       "0               0.00             0.00               0.00   \n",
       "1             -57.74           -57.74             -87.18   \n",
       "2           -7780.25         -7723.67           -7961.51   \n",
       "3             -48.13           -47.70             -51.58   \n",
       "4            -845.88           379.79             274.79   \n",
       "\n",
       "   Debtors Velocity (Days)  Creditors Velocity (Days)  \\\n",
       "0                        0                          0   \n",
       "1                       29                        101   \n",
       "2                       97                        558   \n",
       "3                       93                         63   \n",
       "4                     3887                        346   \n",
       "\n",
       "   Inventory Velocity (Days)  Value of Output/Total Assets  \\\n",
       "0                       45.0                          0.00   \n",
       "1                        2.0                          0.31   \n",
       "2                        0.0                         -0.03   \n",
       "3                        2.0                          0.24   \n",
       "4                        0.0                          0.01   \n",
       "\n",
       "   Value of Output/Gross Block  \n",
       "0                         0.00  \n",
       "1                         0.24  \n",
       "2                        -0.26  \n",
       "3                         1.90  \n",
       "4                         0.05  "
      ]
     },
     "execution_count": 2,
     "metadata": {},
     "output_type": "execute_result"
    }
   ],
   "source": [
    "Company = pd.read_excel('C:/Users/Admin/Downloads/Company_Data2015.xlsx',sheet_name='Sheet2')\n",
    "\n",
    "#Glimpse of Data\n",
    "Company.head()"
   ]
  },
  {
   "cell_type": "code",
   "execution_count": 3,
   "id": "5ec5033f",
   "metadata": {},
   "outputs": [
    {
     "data": {
      "text/plain": [
       "Index(['Co_Code', 'Co_Name', 'Networth Next Year', 'Equity Paid Up',\n",
       "       'Networth', 'Capital Employed', 'Total Debt', 'Gross Block ',\n",
       "       'Net Working Capital ', 'Current Assets ',\n",
       "       'Current Liabilities and Provisions ', 'Total Assets/Liabilities ',\n",
       "       'Gross Sales', 'Net Sales', 'Other Income', 'Value Of Output',\n",
       "       'Cost of Production', 'Selling Cost', 'PBIDT', 'PBDT', 'PBIT', 'PBT',\n",
       "       'PAT', 'Adjusted PAT', 'CP', 'Revenue earnings in forex',\n",
       "       'Revenue expenses in forex', 'Capital expenses in forex',\n",
       "       'Book Value (Unit Curr)', 'Book Value (Adj.) (Unit Curr)',\n",
       "       'Market Capitalisation', 'CEPS (annualised) (Unit Curr)',\n",
       "       'Cash Flow From Operating Activities',\n",
       "       'Cash Flow From Investing Activities',\n",
       "       'Cash Flow From Financing Activities', 'ROG-Net Worth (%)',\n",
       "       'ROG-Capital Employed (%)', 'ROG-Gross Block (%)',\n",
       "       'ROG-Gross Sales (%)', 'ROG-Net Sales (%)',\n",
       "       'ROG-Cost of Production (%)', 'ROG-Total Assets (%)', 'ROG-PBIDT (%)',\n",
       "       'ROG-PBDT (%)', 'ROG-PBIT (%)', 'ROG-PBT (%)', 'ROG-PAT (%)',\n",
       "       'ROG-CP (%)', 'ROG-Revenue earnings in forex (%)',\n",
       "       'ROG-Revenue expenses in forex (%)', 'ROG-Market Capitalisation (%)',\n",
       "       'Current Ratio[Latest]', 'Fixed Assets Ratio[Latest]',\n",
       "       'Inventory Ratio[Latest]', 'Debtors Ratio[Latest]',\n",
       "       'Total Asset Turnover Ratio[Latest]', 'Interest Cover Ratio[Latest]',\n",
       "       'PBIDTM (%)[Latest]', 'PBITM (%)[Latest]', 'PBDTM (%)[Latest]',\n",
       "       'CPM (%)[Latest]', 'APATM (%)[Latest]', 'Debtors Velocity (Days)',\n",
       "       'Creditors Velocity (Days)', 'Inventory Velocity (Days)',\n",
       "       'Value of Output/Total Assets', 'Value of Output/Gross Block'],\n",
       "      dtype='object')"
      ]
     },
     "execution_count": 3,
     "metadata": {},
     "output_type": "execute_result"
    }
   ],
   "source": [
    "Company.columns"
   ]
  },
  {
   "cell_type": "code",
   "execution_count": 4,
   "id": "70c15e3c",
   "metadata": {},
   "outputs": [],
   "source": [
    "Company.columns = Company.columns.str.replace(' ', '_').str.replace('-', '_').str.replace('(', '').str.replace(')', '').str.replace('[', '').str.replace(']', '').str.replace('%', 'perc').str.replace('/', '_to_')"
   ]
  },
  {
   "cell_type": "code",
   "execution_count": 5,
   "id": "225cefe1",
   "metadata": {},
   "outputs": [],
   "source": [
    "Company.rename(columns={'Gross_Block_':'Gross_Block','Net_Working_Capital_':'Net_Working_Capital','Current_Assets_':'Current_Assets',\\\n",
    "                       'Current_Liabilities_and_Provisions_':'Current_Liabilities_and_Provisions','Total_Assets_to_Liabilities_':\n",
    "                       'Total_Assets_to_Liabilities','Book_Value_Adj._Unit_Curr':'Book_Value_Adj_Unit_Curr'}, inplace=True)"
   ]
  },
  {
   "cell_type": "code",
   "execution_count": 6,
   "id": "6dcd80ad",
   "metadata": {},
   "outputs": [
    {
     "name": "stdout",
     "output_type": "stream",
     "text": [
      "The number of rows (observations) is 3586 \n",
      "The number of columns (variables) is 67\n"
     ]
    }
   ],
   "source": [
    "print('The number of rows (observations) is',Company.shape[0],'\\n''The number of columns (variables) is',Company.shape[1])"
   ]
  },
  {
   "cell_type": "code",
   "execution_count": null,
   "id": "2a518d0a",
   "metadata": {},
   "outputs": [],
   "source": [
    "Company.info()"
   ]
  },
  {
   "cell_type": "markdown",
   "id": "8a18e6b5",
   "metadata": {},
   "source": [
    "- There are very few missing values, only in few columns\n",
    "- numerical/categorical columns properly mapped\n",
    "\n"
   ]
  },
  {
   "cell_type": "code",
   "execution_count": null,
   "id": "4f30db3c",
   "metadata": {},
   "outputs": [],
   "source": [
    "pd.options.display.float_format = '{:.2f}'.format   \n",
    "\n",
    "Company.describe().T"
   ]
  },
  {
   "cell_type": "code",
   "execution_count": 7,
   "id": "61b946ee",
   "metadata": {},
   "outputs": [
    {
     "data": {
      "text/plain": [
       "240262"
      ]
     },
     "execution_count": 7,
     "metadata": {},
     "output_type": "execute_result"
    }
   ],
   "source": [
    "Company.size"
   ]
  },
  {
   "cell_type": "code",
   "execution_count": 8,
   "id": "727d70bc",
   "metadata": {},
   "outputs": [
    {
     "data": {
      "text/plain": [
       "118"
      ]
     },
     "execution_count": 8,
     "metadata": {},
     "output_type": "execute_result"
    }
   ],
   "source": [
    "Company.isnull().sum().sum()"
   ]
  },
  {
   "cell_type": "code",
   "execution_count": 9,
   "id": "3b64ae62",
   "metadata": {},
   "outputs": [
    {
     "data": {
      "text/plain": [
       "0.04911305158535265"
      ]
     },
     "execution_count": 9,
     "metadata": {},
     "output_type": "execute_result"
    }
   ],
   "source": [
    "(118/240262)*100"
   ]
  },
  {
   "cell_type": "markdown",
   "id": "b4485fcc",
   "metadata": {},
   "source": [
    "- It is just 0.05% of the missing values present in the dataset.\n",
    "- inventory velocity days - just 3% of the total is missing\n",
    "- inventory velocity days - easily pointed out the bad data with -199 can be subsituted to 199, could be a data entry issue"
   ]
  },
  {
   "cell_type": "markdown",
   "id": "658db141",
   "metadata": {},
   "source": [
    "# inspect by row wise"
   ]
  },
  {
   "cell_type": "code",
   "execution_count": null,
   "id": "7b5a39cb",
   "metadata": {},
   "outputs": [],
   "source": [
    "Company.isnull().sum(axis = 1).sort_values(ascending=False)"
   ]
  },
  {
   "cell_type": "code",
   "execution_count": 10,
   "id": "a4d2a3bb",
   "metadata": {},
   "outputs": [],
   "source": [
    "# Dropping row more than 11 column values are empty\n",
    "Company.drop(Company[(Company['Co_Code'] == 3240)].index,inplace=True)"
   ]
  },
  {
   "cell_type": "code",
   "execution_count": null,
   "id": "f17172f6",
   "metadata": {},
   "outputs": [],
   "source": [
    "Company.shape"
   ]
  },
  {
   "cell_type": "code",
   "execution_count": null,
   "id": "d07765b8",
   "metadata": {},
   "outputs": [],
   "source": [
    "Company.isnull().sum().sort_values(ascending=False)"
   ]
  },
  {
   "cell_type": "markdown",
   "id": "2e08ddbb",
   "metadata": {},
   "source": [
    "# Treating Missing Values"
   ]
  },
  {
   "cell_type": "code",
   "execution_count": null,
   "id": "b6ffa5eb",
   "metadata": {},
   "outputs": [],
   "source": [
    "103/3586*100"
   ]
  },
  {
   "cell_type": "code",
   "execution_count": null,
   "id": "57ae0432",
   "metadata": {},
   "outputs": [],
   "source": [
    "Company['Inventory_Velocity_Days'].value_counts()"
   ]
  },
  {
   "cell_type": "code",
   "execution_count": 11,
   "id": "a22cfb47",
   "metadata": {},
   "outputs": [],
   "source": [
    "# Mode imputation\n",
    "Company['Inventory_Velocity_Days']=Company['Inventory_Velocity_Days'].fillna(value=0)"
   ]
  },
  {
   "cell_type": "code",
   "execution_count": null,
   "id": "645289d7",
   "metadata": {},
   "outputs": [],
   "source": [
    "pd.options.display.float_format = '{:.2f}'.format   \n",
    "\n",
    "# Company.describe().T\n",
    "Company['Book_Value_Adj_Unit_Curr'].describe()"
   ]
  },
  {
   "cell_type": "code",
   "execution_count": null,
   "id": "010562b6",
   "metadata": {},
   "outputs": [],
   "source": [
    "Company.isnull().sum().sum()"
   ]
  },
  {
   "cell_type": "code",
   "execution_count": 12,
   "id": "f46a4ba9",
   "metadata": {},
   "outputs": [],
   "source": [
    "Company['Book_Value_Adj_Unit_Curr'].fillna(Company['Book_Value_Unit_Curr'], inplace=True)"
   ]
  },
  {
   "cell_type": "code",
   "execution_count": 13,
   "id": "b8ab8706",
   "metadata": {},
   "outputs": [
    {
     "data": {
      "text/plain": [
       "0"
      ]
     },
     "execution_count": 13,
     "metadata": {},
     "output_type": "execute_result"
    }
   ],
   "source": [
    "Company.isnull().sum().sum()"
   ]
  },
  {
   "cell_type": "code",
   "execution_count": 14,
   "id": "6fe44e5f",
   "metadata": {},
   "outputs": [
    {
     "data": {
      "text/html": [
       "<div>\n",
       "<style scoped>\n",
       "    .dataframe tbody tr th:only-of-type {\n",
       "        vertical-align: middle;\n",
       "    }\n",
       "\n",
       "    .dataframe tbody tr th {\n",
       "        vertical-align: top;\n",
       "    }\n",
       "\n",
       "    .dataframe thead th {\n",
       "        text-align: right;\n",
       "    }\n",
       "</style>\n",
       "<table border=\"1\" class=\"dataframe\">\n",
       "  <thead>\n",
       "    <tr style=\"text-align: right;\">\n",
       "      <th></th>\n",
       "      <th>Co_Code</th>\n",
       "      <th>Co_Name</th>\n",
       "      <th>Networth_Next_Year</th>\n",
       "      <th>Equity_Paid_Up</th>\n",
       "      <th>Networth</th>\n",
       "      <th>Capital_Employed</th>\n",
       "      <th>Total_Debt</th>\n",
       "      <th>Gross_Block</th>\n",
       "      <th>Net_Working_Capital</th>\n",
       "      <th>Current_Assets</th>\n",
       "      <th>Current_Liabilities_and_Provisions</th>\n",
       "      <th>Total_Assets_to_Liabilities</th>\n",
       "      <th>Gross_Sales</th>\n",
       "      <th>Net_Sales</th>\n",
       "      <th>Other_Income</th>\n",
       "      <th>Value_Of_Output</th>\n",
       "      <th>Cost_of_Production</th>\n",
       "      <th>Selling_Cost</th>\n",
       "      <th>PBIDT</th>\n",
       "      <th>PBDT</th>\n",
       "      <th>PBIT</th>\n",
       "      <th>PBT</th>\n",
       "      <th>PAT</th>\n",
       "      <th>Adjusted_PAT</th>\n",
       "      <th>CP</th>\n",
       "      <th>Revenue_earnings_in_forex</th>\n",
       "      <th>Revenue_expenses_in_forex</th>\n",
       "      <th>Capital_expenses_in_forex</th>\n",
       "      <th>Book_Value_Unit_Curr</th>\n",
       "      <th>Book_Value_Adj_Unit_Curr</th>\n",
       "      <th>Market_Capitalisation</th>\n",
       "      <th>CEPS_annualised_Unit_Curr</th>\n",
       "      <th>Cash_Flow_From_Operating_Activities</th>\n",
       "      <th>Cash_Flow_From_Investing_Activities</th>\n",
       "      <th>Cash_Flow_From_Financing_Activities</th>\n",
       "      <th>ROG_Net_Worth_perc</th>\n",
       "      <th>ROG_Capital_Employed_perc</th>\n",
       "      <th>ROG_Gross_Block_perc</th>\n",
       "      <th>ROG_Gross_Sales_perc</th>\n",
       "      <th>ROG_Net_Sales_perc</th>\n",
       "      <th>ROG_Cost_of_Production_perc</th>\n",
       "      <th>ROG_Total_Assets_perc</th>\n",
       "      <th>ROG_PBIDT_perc</th>\n",
       "      <th>ROG_PBDT_perc</th>\n",
       "      <th>ROG_PBIT_perc</th>\n",
       "      <th>ROG_PBT_perc</th>\n",
       "      <th>ROG_PAT_perc</th>\n",
       "      <th>ROG_CP_perc</th>\n",
       "      <th>ROG_Revenue_earnings_in_forex_perc</th>\n",
       "      <th>ROG_Revenue_expenses_in_forex_perc</th>\n",
       "      <th>ROG_Market_Capitalisation_perc</th>\n",
       "      <th>Current_RatioLatest</th>\n",
       "      <th>Fixed_Assets_RatioLatest</th>\n",
       "      <th>Inventory_RatioLatest</th>\n",
       "      <th>Debtors_RatioLatest</th>\n",
       "      <th>Total_Asset_Turnover_RatioLatest</th>\n",
       "      <th>Interest_Cover_RatioLatest</th>\n",
       "      <th>PBIDTM_percLatest</th>\n",
       "      <th>PBITM_percLatest</th>\n",
       "      <th>PBDTM_percLatest</th>\n",
       "      <th>CPM_percLatest</th>\n",
       "      <th>APATM_percLatest</th>\n",
       "      <th>Debtors_Velocity_Days</th>\n",
       "      <th>Creditors_Velocity_Days</th>\n",
       "      <th>Inventory_Velocity_Days</th>\n",
       "      <th>Value_of_Output_to_Total_Assets</th>\n",
       "      <th>Value_of_Output_to_Gross_Block</th>\n",
       "    </tr>\n",
       "  </thead>\n",
       "  <tbody>\n",
       "    <tr>\n",
       "      <th>318</th>\n",
       "      <td>495</td>\n",
       "      <td>Samtel (India)</td>\n",
       "      <td>-1.61</td>\n",
       "      <td>7.08</td>\n",
       "      <td>-1.51</td>\n",
       "      <td>-1.4</td>\n",
       "      <td>0.11</td>\n",
       "      <td>0.02</td>\n",
       "      <td>-2.37</td>\n",
       "      <td>2.79</td>\n",
       "      <td>5.15</td>\n",
       "      <td>3.75</td>\n",
       "      <td>0.0</td>\n",
       "      <td>0.0</td>\n",
       "      <td>0.19</td>\n",
       "      <td>0.0</td>\n",
       "      <td>0.0</td>\n",
       "      <td>0.01</td>\n",
       "      <td>-0.17</td>\n",
       "      <td>-0.23</td>\n",
       "      <td>-0.17</td>\n",
       "      <td>-0.23</td>\n",
       "      <td>-0.23</td>\n",
       "      <td>-0.23</td>\n",
       "      <td>-0.23</td>\n",
       "      <td>0.0</td>\n",
       "      <td>0.0</td>\n",
       "      <td>0.0</td>\n",
       "      <td>-2.12</td>\n",
       "      <td>-2.12</td>\n",
       "      <td>4.58</td>\n",
       "      <td>-0.32</td>\n",
       "      <td>0.06</td>\n",
       "      <td>0.02</td>\n",
       "      <td>-0.06</td>\n",
       "      <td>-17.97</td>\n",
       "      <td>-19.66</td>\n",
       "      <td>-92.31</td>\n",
       "      <td>0.0</td>\n",
       "      <td>0.0</td>\n",
       "      <td>-100.0</td>\n",
       "      <td>-33.16</td>\n",
       "      <td>90.17</td>\n",
       "      <td>87.5</td>\n",
       "      <td>90.17</td>\n",
       "      <td>87.5</td>\n",
       "      <td>87.5</td>\n",
       "      <td>87.5</td>\n",
       "      <td>0.0</td>\n",
       "      <td>0.0</td>\n",
       "      <td>195.48</td>\n",
       "      <td>0.52</td>\n",
       "      <td>0.0</td>\n",
       "      <td>0.0</td>\n",
       "      <td>0.0</td>\n",
       "      <td>0.0</td>\n",
       "      <td>-0.6</td>\n",
       "      <td>0.0</td>\n",
       "      <td>0.0</td>\n",
       "      <td>0.0</td>\n",
       "      <td>0.0</td>\n",
       "      <td>0.0</td>\n",
       "      <td>0</td>\n",
       "      <td>13870</td>\n",
       "      <td>0.0</td>\n",
       "      <td>0.0</td>\n",
       "      <td>0.0</td>\n",
       "    </tr>\n",
       "  </tbody>\n",
       "</table>\n",
       "</div>"
      ],
      "text/plain": [
       "     Co_Code         Co_Name  Networth_Next_Year  Equity_Paid_Up  Networth  \\\n",
       "318      495  Samtel (India)               -1.61            7.08     -1.51   \n",
       "\n",
       "     Capital_Employed  Total_Debt  Gross_Block  Net_Working_Capital  \\\n",
       "318              -1.4        0.11         0.02                -2.37   \n",
       "\n",
       "     Current_Assets  Current_Liabilities_and_Provisions  \\\n",
       "318            2.79                                5.15   \n",
       "\n",
       "     Total_Assets_to_Liabilities  Gross_Sales  Net_Sales  Other_Income  \\\n",
       "318                         3.75          0.0        0.0          0.19   \n",
       "\n",
       "     Value_Of_Output  Cost_of_Production  Selling_Cost  PBIDT  PBDT  PBIT  \\\n",
       "318              0.0                 0.0          0.01  -0.17 -0.23 -0.17   \n",
       "\n",
       "      PBT   PAT  Adjusted_PAT    CP  Revenue_earnings_in_forex  \\\n",
       "318 -0.23 -0.23         -0.23 -0.23                        0.0   \n",
       "\n",
       "     Revenue_expenses_in_forex  Capital_expenses_in_forex  \\\n",
       "318                        0.0                        0.0   \n",
       "\n",
       "     Book_Value_Unit_Curr  Book_Value_Adj_Unit_Curr  Market_Capitalisation  \\\n",
       "318                 -2.12                     -2.12                   4.58   \n",
       "\n",
       "     CEPS_annualised_Unit_Curr  Cash_Flow_From_Operating_Activities  \\\n",
       "318                      -0.32                                 0.06   \n",
       "\n",
       "     Cash_Flow_From_Investing_Activities  Cash_Flow_From_Financing_Activities  \\\n",
       "318                                 0.02                                -0.06   \n",
       "\n",
       "     ROG_Net_Worth_perc  ROG_Capital_Employed_perc  ROG_Gross_Block_perc  \\\n",
       "318              -17.97                     -19.66                -92.31   \n",
       "\n",
       "     ROG_Gross_Sales_perc  ROG_Net_Sales_perc  ROG_Cost_of_Production_perc  \\\n",
       "318                   0.0                 0.0                       -100.0   \n",
       "\n",
       "     ROG_Total_Assets_perc  ROG_PBIDT_perc  ROG_PBDT_perc  ROG_PBIT_perc  \\\n",
       "318                 -33.16           90.17           87.5          90.17   \n",
       "\n",
       "     ROG_PBT_perc  ROG_PAT_perc  ROG_CP_perc  \\\n",
       "318          87.5          87.5         87.5   \n",
       "\n",
       "     ROG_Revenue_earnings_in_forex_perc  ROG_Revenue_expenses_in_forex_perc  \\\n",
       "318                                 0.0                                 0.0   \n",
       "\n",
       "     ROG_Market_Capitalisation_perc  Current_RatioLatest  \\\n",
       "318                          195.48                 0.52   \n",
       "\n",
       "     Fixed_Assets_RatioLatest  Inventory_RatioLatest  Debtors_RatioLatest  \\\n",
       "318                       0.0                    0.0                  0.0   \n",
       "\n",
       "     Total_Asset_Turnover_RatioLatest  Interest_Cover_RatioLatest  \\\n",
       "318                               0.0                        -0.6   \n",
       "\n",
       "     PBIDTM_percLatest  PBITM_percLatest  PBDTM_percLatest  CPM_percLatest  \\\n",
       "318                0.0               0.0               0.0             0.0   \n",
       "\n",
       "     APATM_percLatest  Debtors_Velocity_Days  Creditors_Velocity_Days  \\\n",
       "318               0.0                      0                    13870   \n",
       "\n",
       "     Inventory_Velocity_Days  Value_of_Output_to_Total_Assets  \\\n",
       "318                      0.0                              0.0   \n",
       "\n",
       "     Value_of_Output_to_Gross_Block  \n",
       "318                             0.0  "
      ]
     },
     "execution_count": 14,
     "metadata": {},
     "output_type": "execute_result"
    }
   ],
   "source": [
    "Company[Company['Co_Code']==495]"
   ]
  },
  {
   "cell_type": "markdown",
   "id": "4d59a890",
   "metadata": {},
   "source": [
    "# Univariate & MultiVariate Analysis"
   ]
  },
  {
   "cell_type": "code",
   "execution_count": null,
   "id": "a482d22e",
   "metadata": {},
   "outputs": [],
   "source": [
    "Company2=Company[['ROG_Cost_of_Production_perc','Inventory_RatioLatest','Current_RatioLatest','Interest_Cover_RatioLatest','Debtors_Velocity_Days','ROG_Net_Worth_perc','ROG_Total_Assets_perc','ROG_Capital_Employed_perc','Book_Value_Unit_Curr','default']]"
   ]
  },
  {
   "cell_type": "code",
   "execution_count": null,
   "id": "7a75ded5",
   "metadata": {},
   "outputs": [],
   "source": [
    "plt.figure(figsize = (15, 5))\n",
    "plt.subplot(1,2,1)\n",
    "sns.countplot(Company['default'])"
   ]
  },
  {
   "cell_type": "code",
   "execution_count": null,
   "id": "53b351f7",
   "metadata": {},
   "outputs": [],
   "source": [
    "plt.figure(figsize = (15, 5))\n",
    "plt.subplot(1,3,1)\n",
    "sns.boxplot(y = Company['ROG_Cost_of_Production_perc'])\n",
    "# plt.show()\n",
    "plt.subplot(1,3,2)\n",
    "sns.boxplot(y = Company['Inventory_RatioLatest'])\n",
    "# plt.show()\n",
    "plt.subplot(1,3,3)\n",
    "sns.boxplot(y = Company['Interest_Cover_RatioLatest'])\n",
    "plt.show()"
   ]
  },
  {
   "cell_type": "code",
   "execution_count": null,
   "id": "b0e290a8",
   "metadata": {},
   "outputs": [],
   "source": [
    "plt.figure(figsize = (15, 5))\n",
    "plt.subplot(1,3,1)\n",
    "sns.distplot(Company['ROG_Cost_of_Production_perc'])\n",
    "# plt.show()\n",
    "plt.subplot(1,3,2)\n",
    "sns.distplot(Company['Inventory_RatioLatest'])\n",
    "# plt.show()\n",
    "plt.subplot(1,3,3)\n",
    "sns.distplot(Company['Interest_Cover_RatioLatest'])\n",
    "plt.show()"
   ]
  },
  {
   "cell_type": "code",
   "execution_count": null,
   "id": "95e455cd",
   "metadata": {},
   "outputs": [],
   "source": [
    "plt.figure(figsize = (15, 5))\n",
    "plt.subplot(1,3,1)\n",
    "sns.boxplot(y = Company['Current_RatioLatest'])\n",
    "plt.subplot(1,3,2)\n",
    "sns.boxplot(y = Company['Debtors_Velocity_Days'])\n",
    "plt.subplot(1,3,3)\n",
    "sns.boxplot(y = Company['ROG_Net_Worth_perc'])\n",
    "plt.show()\n"
   ]
  },
  {
   "cell_type": "code",
   "execution_count": null,
   "id": "fdaa5cf0",
   "metadata": {},
   "outputs": [],
   "source": [
    "plt.figure(figsize = (15, 5))\n",
    "plt.subplot(1,3,1)\n",
    "sns.distplot(Company['Current_RatioLatest'])\n",
    "plt.subplot(1,3,2)\n",
    "sns.distplot(Company['Debtors_Velocity_Days'])\n",
    "plt.subplot(1,3,3)\n",
    "sns.distplot(Company['ROG_Net_Worth_perc'])\n",
    "plt.show()\n"
   ]
  },
  {
   "cell_type": "code",
   "execution_count": null,
   "id": "026a57d7",
   "metadata": {},
   "outputs": [],
   "source": [
    "plt.figure(figsize = (15, 5))\n",
    "plt.subplot(1,3,1)\n",
    "sns.boxplot(y = Company['ROG_Total_Assets_perc'])\n",
    "# plt.show()\n",
    "plt.subplot(1,3,2)\n",
    "sns.boxplot(y = Company['ROG_Capital_Employed_perc'])\n",
    "# plt.show()\n",
    "plt.subplot(1,3,3)\n",
    "sns.boxplot(y = Company['Book_Value_Unit_Curr'])\n",
    "plt.show()"
   ]
  },
  {
   "cell_type": "code",
   "execution_count": null,
   "id": "e2f42b7e",
   "metadata": {},
   "outputs": [],
   "source": [
    "plt.figure(figsize = (15, 5))\n",
    "plt.subplot(1,3,1)\n",
    "sns.distplot(Company['ROG_Total_Assets_perc'])\n",
    "# plt.show()\n",
    "plt.subplot(1,3,2)\n",
    "sns.distplot(Company['ROG_Capital_Employed_perc'])\n",
    "# plt.show()\n",
    "plt.subplot(1,3,3)\n",
    "sns.distplot(Company['Book_Value_Unit_Curr'])\n",
    "plt.show()"
   ]
  },
  {
   "cell_type": "code",
   "execution_count": null,
   "id": "c30b99bc",
   "metadata": {},
   "outputs": [],
   "source": [
    "num_df = Company2.select_dtypes(exclude=['object'])\n",
    "\n",
    "for i in Company2.columns:\n",
    "    print(\"Skewness for\", i,\"is: \",round(num_df[i].skew(),2))"
   ]
  },
  {
   "cell_type": "code",
   "execution_count": null,
   "id": "b1355d61",
   "metadata": {},
   "outputs": [],
   "source": [
    "plt.figure(figsize = (15, 5))\n",
    "plt.subplot(1,2,1)\n",
    "sns.boxplot(Company['default'], Company['Book_Value_Unit_Curr'])"
   ]
  },
  {
   "cell_type": "code",
   "execution_count": null,
   "id": "9c5a3ad5",
   "metadata": {},
   "outputs": [],
   "source": [
    "plt.figure(figsize = (15, 5))\n",
    "plt.subplot(1,2,1)\n",
    "sns.barplot(Company['default'], Company['Net_Sales'])"
   ]
  },
  {
   "cell_type": "code",
   "execution_count": null,
   "id": "2ae4bced",
   "metadata": {},
   "outputs": [],
   "source": [
    "plt.figure(figsize = (15, 5))\n",
    "plt.subplot(1,2,1)\n",
    "sns.barplot(Company['default'], Company['Inventory_Velocity_Days'])"
   ]
  },
  {
   "cell_type": "code",
   "execution_count": null,
   "id": "1b282e28",
   "metadata": {},
   "outputs": [],
   "source": [
    "plt.subplots(figsize = (8,6))\n",
    "sns.heatmap(Company[['ROG_Cost_of_Production_perc','Inventory_RatioLatest','Current_RatioLatest','Interest_Cover_RatioLatest','Debtors_Velocity_Days','ROG_Net_Worth_perc','ROG_Total_Assets_perc','ROG_Capital_Employed_perc','Book_Value_Unit_Curr']].corr(),cmap = 'plasma')\n",
    "plt.show()"
   ]
  },
  {
   "cell_type": "markdown",
   "id": "2661e4d3",
   "metadata": {},
   "source": [
    "# Duplicates check"
   ]
  },
  {
   "cell_type": "code",
   "execution_count": null,
   "id": "3551de5a",
   "metadata": {},
   "outputs": [],
   "source": [
    "dups = Company.duplicated()\n",
    "print('Number of duplicate rows = %d' % (dups.sum()))\n",
    "Company[dups]"
   ]
  },
  {
   "cell_type": "code",
   "execution_count": 15,
   "id": "2c8535ee",
   "metadata": {},
   "outputs": [],
   "source": [
    "Company['default'] = np.where((Company['Networth_Next_Year'] > 0), 0, 1)"
   ]
  },
  {
   "cell_type": "code",
   "execution_count": null,
   "id": "4fbdcb1d",
   "metadata": {},
   "outputs": [],
   "source": [
    "Company[['default','Networth_Next_Year']].tail(5)"
   ]
  },
  {
   "cell_type": "code",
   "execution_count": null,
   "id": "8f2d0211",
   "metadata": {},
   "outputs": [],
   "source": [
    "Company['default'].value_counts()"
   ]
  },
  {
   "cell_type": "code",
   "execution_count": null,
   "id": "e335728d",
   "metadata": {},
   "outputs": [],
   "source": [
    "# Checking proportion of default\n",
    "Company['default'].value_counts(normalize=True)"
   ]
  },
  {
   "cell_type": "markdown",
   "id": "f376ee5f",
   "metadata": {},
   "source": [
    "Data seems highly imbalanced"
   ]
  },
  {
   "cell_type": "code",
   "execution_count": null,
   "id": "54874597",
   "metadata": {},
   "outputs": [],
   "source": [
    "Company1=Company[['Networth_Next_Year', 'Equity_Paid_Up','Networth', 'Capital_Employed', 'Total_Debt', 'Gross_Block','Net_Working_Capital', 'Current_Assets',\\\n",
    "       'Current_Liabilities_and_Provisions', 'Total_Assets_to_Liabilities',\\\n",
    "       'Gross_Sales', 'Net_Sales', 'Other_Income', 'Value_Of_Output',\\\n",
    "       'Cost_of_Production', 'Selling_Cost', 'PBIDT', 'PBDT', 'PBIT', 'PBT',\\\n",
    "       'PAT', 'Adjusted_PAT', 'CP', 'Revenue_earnings_in_forex',\\\n",
    "       'Revenue_expenses_in_forex', 'Capital_expenses_in_forex',\\\n",
    "       'Book_Value_Unit_Curr', 'Book_Value_Adj_Unit_Curr',\\\n",
    "       'Market_Capitalisation', 'CEPS_annualised_Unit_Curr',\\\n",
    "       'Cash_Flow_From_Operating_Activities',\\\n",
    "       'Cash_Flow_From_Investing_Activities',\\\n",
    "       'Cash_Flow_From_Financing_Activities', 'ROG_Net_Worth_perc',\\\n",
    "       'ROG_Capital_Employed_perc', 'ROG_Gross_Block_perc',\\\n",
    "       'ROG_Gross_Sales_perc', 'ROG_Net_Sales_perc',\\\n",
    "       'ROG_Cost_of_Production_perc', 'ROG_Total_Assets_perc',\\\n",
    "       'ROG_PBIDT_perc', 'ROG_PBDT_perc', 'ROG_PBIT_perc', 'ROG_PBT_perc',\\\n",
    "       'ROG_PAT_perc', 'ROG_CP_perc', 'ROG_Revenue_earnings_in_forex_perc',\\\n",
    "       'ROG_Revenue_expenses_in_forex_perc', 'ROG_Market_Capitalisation_perc',\\\n",
    "       'Current_RatioLatest', 'Fixed_Assets_RatioLatest',\\\n",
    "       'Inventory_RatioLatest', 'Debtors_RatioLatest',\\\n",
    "       'Total_Asset_Turnover_RatioLatest', 'Interest_Cover_RatioLatest',\\\n",
    "       'PBIDTM_percLatest', 'PBITM_percLatest', 'PBDTM_percLatest',\\\n",
    "       'CPM_percLatest', 'APATM_percLatest', 'Debtors_Velocity_Days',\\\n",
    "       'Creditors_Velocity_Days', 'Inventory_Velocity_Days',\\\n",
    "       'Value_of_Output_to_Total_Assets', 'Value_of_Output_to_Gross_Block',\\\n",
    "       'default']]"
   ]
  },
  {
   "cell_type": "code",
   "execution_count": null,
   "id": "d2e43f7b",
   "metadata": {},
   "outputs": [],
   "source": [
    "Company1.size"
   ]
  },
  {
   "cell_type": "code",
   "execution_count": null,
   "id": "fb3ddcbe",
   "metadata": {},
   "outputs": [],
   "source": [
    "Q1 = Company1.quantile(0.25)\n",
    "Q3 = Company1.quantile(0.75)\n",
    "IQR = Q3 - Q1\n",
    "UL = Q3 + 1.5*IQR\n",
    "LL = Q1 - 1.5*IQR"
   ]
  },
  {
   "cell_type": "code",
   "execution_count": null,
   "id": "a2dbd50b",
   "metadata": {},
   "outputs": [],
   "source": [
    "((Company1 > UL) | (Company1 < LL)).sum().sum()"
   ]
  },
  {
   "cell_type": "code",
   "execution_count": null,
   "id": "cc4da271",
   "metadata": {},
   "outputs": [],
   "source": [
    "42449/236610*100"
   ]
  },
  {
   "cell_type": "code",
   "execution_count": null,
   "id": "17e5b597",
   "metadata": {},
   "outputs": [],
   "source": [
    "Q1 = 3.98\n",
    "Q3 = 123.78\n",
    "IQR = Q3 - Q1\n",
    "UL = Q3 + 1.5*IQR\n",
    "LL = Q1 - 1.5*IQR\n",
    "print(\"UL\",UL)\n",
    "print(\"LL\",LL)"
   ]
  },
  {
   "cell_type": "code",
   "execution_count": null,
   "id": "d3b708f2",
   "metadata": {},
   "outputs": [],
   "source": [
    "# outlier_df = Company1[Company1['Networth_Next_Year'] < LL]\n",
    "outlier_df=Company1[(Company1['Networth_Next_Year'] >303.48) | (Company1['Networth_Next_Year'] < -175.72)]"
   ]
  },
  {
   "cell_type": "code",
   "execution_count": null,
   "id": "428c63e9",
   "metadata": {},
   "outputs": [],
   "source": [
    "outlier_df['default'].value_counts()"
   ]
  },
  {
   "cell_type": "code",
   "execution_count": null,
   "id": "2b51e3cb",
   "metadata": {},
   "outputs": [],
   "source": [
    "73/388"
   ]
  },
  {
   "cell_type": "markdown",
   "id": "9104d4e9",
   "metadata": {},
   "source": [
    "Remove unwanted columns"
   ]
  },
  {
   "cell_type": "code",
   "execution_count": 16,
   "id": "573d9c6e",
   "metadata": {},
   "outputs": [],
   "source": [
    "Company.drop(['Co_Code','Co_Name','Revenue_earnings_in_forex','Revenue_expenses_in_forex','Capital_expenses_in_forex','ROG_Revenue_earnings_in_forex_perc','ROG_Revenue_expenses_in_forex_perc','ROG_Market_Capitalisation_perc','Book_Value_Adj_Unit_Curr'],axis=1,inplace=True)"
   ]
  },
  {
   "cell_type": "markdown",
   "id": "d3f25dad",
   "metadata": {},
   "source": [
    "Data Entry issue"
   ]
  },
  {
   "cell_type": "code",
   "execution_count": 17,
   "id": "9918a28d",
   "metadata": {},
   "outputs": [],
   "source": [
    "Company['Inventory_Velocity_Days']=Company['Inventory_Velocity_Days'].replace(-199,199)"
   ]
  },
  {
   "cell_type": "markdown",
   "id": "209b9a41",
   "metadata": {},
   "source": [
    "Treat Outliers - Treatment 1"
   ]
  },
  {
   "cell_type": "code",
   "execution_count": null,
   "id": "70aff4fb",
   "metadata": {},
   "outputs": [],
   "source": [
    "plt.figure(figsize=(10,7))\n",
    "Company.boxplot()\n",
    "plt.xticks([])\n",
    "plt.show()"
   ]
  },
  {
   "cell_type": "code",
   "execution_count": 20,
   "id": "a8641511",
   "metadata": {},
   "outputs": [],
   "source": [
    "Company_num=Company[['Equity_Paid_Up','Networth', 'Capital_Employed', 'Total_Debt', 'Gross_Block','Net_Working_Capital', 'Current_Assets',\\\n",
    "       'Current_Liabilities_and_Provisions', 'Total_Assets_to_Liabilities',\\\n",
    "       'Gross_Sales', 'Net_Sales', 'Other_Income', 'Value_Of_Output',\\\n",
    "       'Cost_of_Production', 'Selling_Cost', 'PBIDT', 'PBDT', 'PBIT', 'PBT',\\\n",
    "       'PAT', 'Adjusted_PAT', 'CP', 'Book_Value_Unit_Curr',\\\n",
    "       'Market_Capitalisation', 'CEPS_annualised_Unit_Curr',\\\n",
    "       'Cash_Flow_From_Operating_Activities',\\\n",
    "       'Cash_Flow_From_Investing_Activities',\\\n",
    "       'Cash_Flow_From_Financing_Activities', 'ROG_Net_Worth_perc',\\\n",
    "       'ROG_Capital_Employed_perc', 'ROG_Gross_Block_perc',\\\n",
    "       'ROG_Gross_Sales_perc', 'ROG_Net_Sales_perc',\\\n",
    "       'ROG_Cost_of_Production_perc', 'ROG_Total_Assets_perc',\\\n",
    "       'ROG_PBIDT_perc', 'ROG_PBDT_perc', 'ROG_PBIT_perc', 'ROG_PBT_perc',\\\n",
    "       'ROG_PAT_perc', 'ROG_CP_perc','Current_RatioLatest', 'Fixed_Assets_RatioLatest',\\\n",
    "       'Inventory_RatioLatest', 'Debtors_RatioLatest',\\\n",
    "       'Total_Asset_Turnover_RatioLatest', 'Interest_Cover_RatioLatest',\\\n",
    "       'PBIDTM_percLatest', 'PBITM_percLatest', 'PBDTM_percLatest',\\\n",
    "       'CPM_percLatest', 'APATM_percLatest', 'Debtors_Velocity_Days',\\\n",
    "       'Creditors_Velocity_Days', 'Inventory_Velocity_Days',\\\n",
    "       'Value_of_Output_to_Total_Assets', 'Value_of_Output_to_Gross_Block',\\\n",
    "       ]]"
   ]
  },
  {
   "cell_type": "code",
   "execution_count": 21,
   "id": "5199c333",
   "metadata": {},
   "outputs": [],
   "source": [
    "def remove_outlier(col):\n",
    "    sorted(col)\n",
    "    Q1,Q3=np.percentile(col,[25,75])\n",
    "    IQR=Q3-Q1\n",
    "    lower_range= Q1-(1.5 * IQR)\n",
    "    upper_range= Q3+(1.5 * IQR)\n",
    "    return lower_range, upper_range"
   ]
  },
  {
   "cell_type": "code",
   "execution_count": 22,
   "id": "dde6eb49",
   "metadata": {},
   "outputs": [],
   "source": [
    "for column in Company_num.columns: \n",
    "    lr,ur=remove_outlier(Company_num[column])\n",
    "    Company_num[column]=np.where(Company_num[column]>ur,ur,Company_num[column])\n",
    "    Company_num[column]=np.where(Company_num[column]<lr,lr,Company_num[column])"
   ]
  },
  {
   "cell_type": "code",
   "execution_count": null,
   "id": "c6df597d",
   "metadata": {},
   "outputs": [],
   "source": [
    "plt.figure(figsize=(10,7))\n",
    "Company_num.boxplot()\n",
    "plt.xticks([])\n",
    "plt.show()"
   ]
  },
  {
   "cell_type": "code",
   "execution_count": null,
   "id": "2d61677b",
   "metadata": {},
   "outputs": [],
   "source": [
    "Q1 = Company1.quantile(0.25)\n",
    "Q3 = Company1.quantile(0.75)\n",
    "IQR = Q3 - Q1\n",
    "UL = Q3 + 1.5*IQR\n",
    "LL = Q1 - 1.5*IQR"
   ]
  },
  {
   "cell_type": "code",
   "execution_count": null,
   "id": "73a7f2a4",
   "metadata": {},
   "outputs": [],
   "source": [
    "((Company_num > UL) | (Company_num < LL)).sum().sum()\n",
    "# Below are the outlier datas"
   ]
  },
  {
   "cell_type": "code",
   "execution_count": 23,
   "id": "d61ac935",
   "metadata": {},
   "outputs": [],
   "source": [
    "Company_X=Company_num.copy()\n",
    "# Company_X = Company.drop(['default','Networth_Next_Year'], axis = 1)\n",
    "Company_Y = Company['default']"
   ]
  },
  {
   "cell_type": "code",
   "execution_count": 24,
   "id": "61d56f71",
   "metadata": {},
   "outputs": [
    {
     "data": {
      "text/plain": [
       "0"
      ]
     },
     "execution_count": 24,
     "metadata": {},
     "output_type": "execute_result"
    }
   ],
   "source": [
    "Company_X.isnull().sum().sum()"
   ]
  },
  {
   "cell_type": "code",
   "execution_count": 25,
   "id": "f295b09e",
   "metadata": {},
   "outputs": [],
   "source": [
    "import statsmodels.formula.api as SM"
   ]
  },
  {
   "cell_type": "code",
   "execution_count": 26,
   "id": "1b85a818",
   "metadata": {},
   "outputs": [],
   "source": [
    "X_train, X_test, y_train, y_test = train_test_split(Company_X, Company_Y, \n",
    "                                                    test_size = 0.33, random_state = 42,stratify=Company['default'])"
   ]
  },
  {
   "cell_type": "code",
   "execution_count": null,
   "id": "ee674ee0",
   "metadata": {},
   "outputs": [],
   "source": [
    "Company_train = pd.concat([X_train,y_train], axis=1)\n",
    "Company_test = pd.concat([X_test,y_test], axis=1)"
   ]
  },
  {
   "cell_type": "code",
   "execution_count": null,
   "id": "706f4acc",
   "metadata": {},
   "outputs": [],
   "source": [
    "# Import library for VIF\n",
    "from statsmodels.stats.outliers_influence import variance_inflation_factor\n",
    "\n",
    "def calc_vif(X):\n",
    "\n",
    "    # Calculating VIF\n",
    "    vif = pd.DataFrame()\n",
    "    vif[\"variables\"] = X.columns\n",
    "    vif[\"VIF\"] = [variance_inflation_factor(X.values, i) for i in range(X.shape[1])]\n",
    "\n",
    "    return(vif)"
   ]
  },
  {
   "cell_type": "code",
   "execution_count": null,
   "id": "375d24ae",
   "metadata": {},
   "outputs": [],
   "source": [
    "calc_vif(X_train).sort_values(by='VIF', ascending = True)"
   ]
  },
  {
   "cell_type": "code",
   "execution_count": null,
   "id": "342ae3b6",
   "metadata": {},
   "outputs": [],
   "source": [
    "# f_1 = 'default ~ ROG_Gross_Block_perc+Inventory_Velocity_Days+ROG_Cost_of_Production_perc+Creditors_Velocity_Days+Inventory_RatioLatest+Current_RatioLatest+Interest_Cover_RatioLatest+Cash_Flow_From_Investing_Activities+Debtors_Velocity_Days+Debtors_RatioLatest+Cash_Flow_From_Financing_Activities+ROG_Net_Worth_perc+ROG_Total_Assets_perc+Cash_Flow_From_Operating_Activities+ROG_Capital_Employed_perc+Market_Capitalisation+Selling_Cost+Equity_Paid_Up+Other_Income+Book_Value_Unit_Curr'\n",
    "f_1 = 'default ~ ROG_Cost_of_Production_perc+Inventory_RatioLatest+Current_RatioLatest+Interest_Cover_RatioLatest+Debtors_Velocity_Days+ROG_Net_Worth_perc+ROG_Total_Assets_perc+ROG_Capital_Employed_perc+Book_Value_Unit_Curr'"
   ]
  },
  {
   "cell_type": "code",
   "execution_count": null,
   "id": "ce415b1c",
   "metadata": {},
   "outputs": [],
   "source": [
    "model_1 = SM.logit(formula = f_1, data=Company_train).fit(method='bfgs')"
   ]
  },
  {
   "cell_type": "code",
   "execution_count": null,
   "id": "1d1db617",
   "metadata": {},
   "outputs": [],
   "source": [
    "model_1.summary()"
   ]
  },
  {
   "cell_type": "code",
   "execution_count": null,
   "id": "18688041",
   "metadata": {},
   "outputs": [],
   "source": [
    "print('The adjusted pseudo R-square value is',1 - ((model_1.llf - model_1.df_model)/model_1.llnull))"
   ]
  },
  {
   "cell_type": "code",
   "execution_count": null,
   "id": "78cf618d",
   "metadata": {},
   "outputs": [],
   "source": [
    "calc_vif(X_train[['ROG_Cost_of_Production_perc','Inventory_RatioLatest','Current_RatioLatest','Interest_Cover_RatioLatest','Debtors_Velocity_Days','ROG_Net_Worth_perc','ROG_Total_Assets_perc','ROG_Capital_Employed_perc','Book_Value_Unit_Curr']]).sort_values(by='VIF', ascending = True)"
   ]
  },
  {
   "cell_type": "code",
   "execution_count": null,
   "id": "9195b2bd",
   "metadata": {},
   "outputs": [],
   "source": [
    "sns.distplot(model_1.fittedvalues);"
   ]
  },
  {
   "cell_type": "code",
   "execution_count": null,
   "id": "f8845101",
   "metadata": {},
   "outputs": [],
   "source": [
    "y_predict_train = model_1.predict(X_train)\n",
    "# y_predict_train"
   ]
  },
  {
   "cell_type": "code",
   "execution_count": null,
   "id": "7f8a2fe0",
   "metadata": {},
   "outputs": [],
   "source": [
    "sns.boxplot(x=Company['default'],y=y_predict_train)\n",
    "plt.xlabel('Default');"
   ]
  },
  {
   "cell_type": "code",
   "execution_count": null,
   "id": "87737f2c",
   "metadata": {},
   "outputs": [],
   "source": [
    "y_class_pred=[]\n",
    "for i in range(0,len(y_predict_train)):\n",
    "    if np.array(y_predict_train)[i]>0.06:\n",
    "        a=1\n",
    "    else:\n",
    "        a=0\n",
    "    y_class_pred.append(a)"
   ]
  },
  {
   "cell_type": "code",
   "execution_count": null,
   "id": "b2584afd",
   "metadata": {},
   "outputs": [],
   "source": [
    "#print(metrics.confusion_matrix(y_test, y_predict))\n",
    "sns.heatmap((metrics.confusion_matrix(y_train,y_class_pred)),annot=True,fmt='.5g'\n",
    "            ,cmap='plasma');\n",
    "plt.xlabel('Predicted');\n",
    "plt.ylabel('Actuals',rotation=0);"
   ]
  },
  {
   "cell_type": "code",
   "execution_count": null,
   "id": "9b6b37af",
   "metadata": {},
   "outputs": [],
   "source": [
    "tn, fp, fn, tp = metrics.confusion_matrix(y_train,y_class_pred).ravel()\n",
    "print('True Negative:',tn,'\\n''False Positives:' ,fp,'\\n''False Negatives:', fn,'\\n''True Positives:', tp)"
   ]
  },
  {
   "cell_type": "code",
   "execution_count": null,
   "id": "1e1d6668",
   "metadata": {},
   "outputs": [],
   "source": [
    "print(metrics.classification_report(y_train,y_class_pred,digits=3))"
   ]
  },
  {
   "cell_type": "code",
   "execution_count": null,
   "id": "8d328a48",
   "metadata": {},
   "outputs": [],
   "source": [
    "y_predict_test = model_1.predict(X_test)\n",
    "# y_predict_test"
   ]
  },
  {
   "cell_type": "code",
   "execution_count": null,
   "id": "79a8cc8a",
   "metadata": {},
   "outputs": [],
   "source": [
    "y_class_pred=[]\n",
    "for i in range(0,len(y_predict_test)):\n",
    "    if np.array(y_predict_test)[i]>0.06:\n",
    "        a=1\n",
    "    else:\n",
    "        a=0\n",
    "    y_class_pred.append(a)"
   ]
  },
  {
   "cell_type": "code",
   "execution_count": null,
   "id": "daaea248",
   "metadata": {},
   "outputs": [],
   "source": [
    "sns.heatmap((metrics.confusion_matrix(y_test,y_class_pred)),annot=True,fmt='.5g'\n",
    "            ,cmap='plasma');\n",
    "plt.xlabel('Predicted');\n",
    "plt.ylabel('Actuals',rotation=0);"
   ]
  },
  {
   "cell_type": "code",
   "execution_count": null,
   "id": "ff17ef6c",
   "metadata": {},
   "outputs": [],
   "source": [
    "tn, fp, fn, tp = metrics.confusion_matrix(y_test,y_class_pred).ravel()\n",
    "print('True Negative:',tn,'\\n''False Positives:' ,fp,'\\n''False Negatives:', fn,'\\n''True Positives:', tp)"
   ]
  },
  {
   "cell_type": "code",
   "execution_count": null,
   "id": "c29b4774",
   "metadata": {},
   "outputs": [],
   "source": [
    "print(metrics.classification_report(y_test,y_class_pred,digits=3))"
   ]
  },
  {
   "cell_type": "code",
   "execution_count": null,
   "id": "8d6554bc",
   "metadata": {},
   "outputs": [],
   "source": [
    "y_class_pred_train=[]\n",
    "for i in range(0,len(y_predict_train)):\n",
    "    if np.array(y_predict_train)[i]>0.07:\n",
    "        a=1\n",
    "    else:\n",
    "        a=0\n",
    "    y_class_pred_train.append(a)"
   ]
  },
  {
   "cell_type": "code",
   "execution_count": null,
   "id": "fe4c3bbf",
   "metadata": {},
   "outputs": [],
   "source": [
    "print(metrics.classification_report(y_train,y_class_pred_train,digits=3))"
   ]
  },
  {
   "cell_type": "code",
   "execution_count": null,
   "id": "f83b282d",
   "metadata": {},
   "outputs": [],
   "source": [
    "y_class_pred_test=[]\n",
    "for i in range(0,len(y_predict_test)):\n",
    "    if np.array(y_predict_test)[i]>0.07:\n",
    "        a=1\n",
    "    else:\n",
    "        a=0\n",
    "    y_class_pred_test.append(a)"
   ]
  },
  {
   "cell_type": "code",
   "execution_count": null,
   "id": "6bbe4818",
   "metadata": {},
   "outputs": [],
   "source": [
    "print(metrics.classification_report(y_test,y_class_pred_test,digits=3))"
   ]
  },
  {
   "cell_type": "markdown",
   "id": "e0595e0d",
   "metadata": {},
   "source": []
  },
  {
   "cell_type": "code",
   "execution_count": null,
   "id": "88d29cd3",
   "metadata": {},
   "outputs": [],
   "source": [
    "train_auc = roc_auc_score(y_train, y_class_pred_train)\n",
    "print('AUC: %.3f' % train_auc)\n",
    "# calculate roc curve\n",
    "test_fpr, test_tpr, test_thresholds = roc_curve(y_test, y_class_pred)\n",
    "plt.plot([0, 1], [0, 1], linestyle='--')\n",
    "# plot the roc curve for the model\n",
    "plt.plot(test_fpr, test_tpr);\n",
    "plt.xlabel('False positive Rate')\n",
    "plt.ylabel('True positive Rate')\n",
    "plt.title('Traning Record for 0.07 cut-off')"
   ]
  },
  {
   "cell_type": "code",
   "execution_count": null,
   "id": "f35bbd20",
   "metadata": {},
   "outputs": [],
   "source": [
    "test_auc = roc_auc_score(y_test, y_class_pred_test)\n",
    "print('AUC: %.3f' % test_auc)\n",
    "# calculate roc curve\n",
    "test_fpr, test_tpr, test_thresholds = roc_curve(y_test, y_class_pred)\n",
    "plt.plot([0, 1], [0, 1], linestyle='--')\n",
    "# plot the roc curve for the model\n",
    "plt.plot(test_fpr, test_tpr);\n",
    "plt.xlabel('False positive Rate')\n",
    "plt.ylabel('True positive Rate')\n",
    "plt.title('Testing Record for 0.07 cut-off')"
   ]
  },
  {
   "cell_type": "markdown",
   "id": "16dddc0e",
   "metadata": {},
   "source": [
    "# Random Forest Classifier"
   ]
  },
  {
   "cell_type": "code",
   "execution_count": 27,
   "id": "a13da8a7",
   "metadata": {},
   "outputs": [],
   "source": [
    "from sklearn.ensemble import RandomForestClassifier\n",
    "from sklearn.model_selection import GridSearchCV\n",
    "\n",
    "param_grid = {\n",
    "    'max_depth': [3, 5, 7],\n",
    "    'min_samples_leaf': [5, 10, 15],\n",
    "    'min_samples_split': [15, 30, 45],\n",
    "    'n_estimators': [25, 50]\n",
    "}\n",
    "\n",
    "rfcl = RandomForestClassifier()\n",
    "\n",
    "grid_search = GridSearchCV(estimator = rfcl, param_grid = param_grid)"
   ]
  },
  {
   "cell_type": "code",
   "execution_count": 28,
   "id": "b287c33b",
   "metadata": {},
   "outputs": [
    {
     "data": {
      "text/plain": [
       "GridSearchCV(estimator=RandomForestClassifier(),\n",
       "             param_grid={'max_depth': [3, 5, 7],\n",
       "                         'min_samples_leaf': [5, 10, 15],\n",
       "                         'min_samples_split': [15, 30, 45],\n",
       "                         'n_estimators': [25, 50]})"
      ]
     },
     "execution_count": 28,
     "metadata": {},
     "output_type": "execute_result"
    }
   ],
   "source": [
    "grid_search.fit(X_train, y_train)"
   ]
  },
  {
   "cell_type": "code",
   "execution_count": 29,
   "id": "7a5589fb",
   "metadata": {},
   "outputs": [
    {
     "data": {
      "text/plain": [
       "{'max_depth': 5,\n",
       " 'min_samples_leaf': 5,\n",
       " 'min_samples_split': 30,\n",
       " 'n_estimators': 50}"
      ]
     },
     "execution_count": 29,
     "metadata": {},
     "output_type": "execute_result"
    }
   ],
   "source": [
    "grid_search.best_params_"
   ]
  },
  {
   "cell_type": "code",
   "execution_count": 30,
   "id": "2e2dff4b",
   "metadata": {},
   "outputs": [],
   "source": [
    "best_grid = grid_search.best_estimator_"
   ]
  },
  {
   "cell_type": "code",
   "execution_count": 31,
   "id": "43aeca4f",
   "metadata": {},
   "outputs": [],
   "source": [
    "pred_train_rf = best_grid.predict(X_train)\n",
    "pred_test_rf = best_grid.predict(X_test)"
   ]
  },
  {
   "cell_type": "code",
   "execution_count": 32,
   "id": "e4bc8ae8",
   "metadata": {},
   "outputs": [
    {
     "name": "stdout",
     "output_type": "stream",
     "text": [
      "              precision    recall  f1-score   support\n",
      "\n",
      "           0       0.99      0.99      0.99      2141\n",
      "           1       0.94      0.88      0.91       260\n",
      "\n",
      "    accuracy                           0.98      2401\n",
      "   macro avg       0.96      0.94      0.95      2401\n",
      "weighted avg       0.98      0.98      0.98      2401\n",
      "\n"
     ]
    }
   ],
   "source": [
    "print(metrics.classification_report(y_train, pred_train_rf))"
   ]
  },
  {
   "cell_type": "code",
   "execution_count": 33,
   "id": "e68e3134",
   "metadata": {},
   "outputs": [
    {
     "name": "stdout",
     "output_type": "stream",
     "text": [
      "              precision    recall  f1-score   support\n",
      "\n",
      "           0       0.98      1.00      0.99      1056\n",
      "           1       0.98      0.87      0.92       128\n",
      "\n",
      "    accuracy                           0.98      1184\n",
      "   macro avg       0.98      0.93      0.96      1184\n",
      "weighted avg       0.98      0.98      0.98      1184\n",
      "\n"
     ]
    }
   ],
   "source": [
    "print(metrics.classification_report(y_test, pred_test_rf))"
   ]
  },
  {
   "cell_type": "code",
   "execution_count": 42,
   "id": "b6cc871a",
   "metadata": {},
   "outputs": [
    {
     "data": {
      "image/png": "[encoded data removed]",
      "text/plain": [
       "<Figure size 720x432 with 1 Axes>"
      ]
     },
     "metadata": {
      "needs_background": "light"
     },
     "output_type": "display_data"
    }
   ],
   "source": [
    "x=pd.DataFrame(best_grid.feature_importances_*100,index=X_train.columns).sort_values(by=0,ascending=False)\n",
    "plt.figure(figsize=(10,6))\n",
    "data_top=x.head(10)\n",
    "data_top\n",
    "sns.barplot(data_top[0],data_top.index,palette='dark')\n",
    "plt.xlabel('Feature Importance in %')\n",
    "plt.ylabel('Features')\n",
    "plt.title('Feature Importance using RF')\n",
    "plt.show()"
   ]
  },
  {
   "cell_type": "code",
   "execution_count": 35,
   "id": "01c81ae3",
   "metadata": {},
   "outputs": [
    {
     "name": "stdout",
     "output_type": "stream",
     "text": [
      "AUC: 0.996\n"
     ]
    },
    {
     "data": {
      "text/plain": [
       "Text(0, 0.5, 'True positive Rate')"
      ]
     },
     "execution_count": 35,
     "metadata": {},
     "output_type": "execute_result"
    },
    {
     "data": {
      "image/png": "[encoded data removed]",
      "text/plain": [
       "<Figure size 432x288 with 1 Axes>"
      ]
     },
     "metadata": {
      "needs_background": "light"
     },
     "output_type": "display_data"
    }
   ],
   "source": [
    "\n",
    "\n",
    "# predict probabilities\n",
    "probs = best_grid.predict_proba(X_train)\n",
    "# probs = RF_model.predict_proba(X_train_res)\n",
    "# keep probabilities for the positive outcome only\n",
    "probs = probs[:, 1]\n",
    "# calculate AUC\n",
    "auc = roc_auc_score(y_train, probs)\n",
    "# auc = roc_auc_score(y_train_res, probs)\n",
    "RF_train_auc=roc_auc_score(y_train, probs)\n",
    "# RF_train_auc=roc_auc_score(y_train_res, probs)\n",
    "print('AUC: %.3f' % auc)\n",
    "# calculate roc curve\n",
    "train_fpr, train_tpr, train_thresholds = roc_curve(y_train, probs)\n",
    "# train_fpr, train_tpr, train_thresholds = roc_curve(y_train_res, probs)\n",
    "plt.plot([0, 1], [0, 1], linestyle='--')\n",
    "# plot the roc curve for the model\n",
    "plt.plot(train_fpr, train_tpr);\n",
    "plt.xlabel('False positive Rate')\n",
    "plt.ylabel('True positive Rate')\n",
    "\n"
   ]
  },
  {
   "cell_type": "code",
   "execution_count": 36,
   "id": "38105020",
   "metadata": {},
   "outputs": [
    {
     "name": "stdout",
     "output_type": "stream",
     "text": [
      "AUC: 0.990\n"
     ]
    },
    {
     "data": {
      "text/plain": [
       "Text(0, 0.5, 'True positive Rate')"
      ]
     },
     "execution_count": 36,
     "metadata": {},
     "output_type": "execute_result"
    },
    {
     "data": {
      "image/png": "[encoded data removed]",
      "text/plain": [
       "<Figure size 432x288 with 1 Axes>"
      ]
     },
     "metadata": {
      "needs_background": "light"
     },
     "output_type": "display_data"
    }
   ],
   "source": [
    "# predict probabilities\n",
    "probs = best_grid.predict_proba(X_test)\n",
    "# keep probabilities for the positive outcome only\n",
    "probs = probs[:, 1]\n",
    "# calculate AUC\n",
    "# test_auc = roc_auc_score(y_test, probs)\n",
    "RF_test_auc = roc_auc_score(y_test, probs)\n",
    "print('AUC: %.3f' % RF_test_auc)\n",
    "# calculate roc curve\n",
    "test_fpr, test_tpr, test_thresholds = roc_curve(y_test, probs)\n",
    "plt.plot([0, 1], [0, 1], linestyle='--')\n",
    "# plot the roc curve for the model\n",
    "plt.plot(test_fpr, test_tpr);\n",
    "plt.xlabel('False positive Rate')\n",
    "plt.ylabel('True positive Rate')"
   ]
  },
  {
   "cell_type": "markdown",
   "id": "f9c3ca4b",
   "metadata": {},
   "source": [
    "# Linear Discriminant Analysis"
   ]
  },
  {
   "cell_type": "code",
   "execution_count": 37,
   "id": "58be87df",
   "metadata": {},
   "outputs": [],
   "source": [
    "from sklearn.discriminant_analysis import LinearDiscriminantAnalysis"
   ]
  },
  {
   "cell_type": "code",
   "execution_count": 38,
   "id": "e8c6af4e",
   "metadata": {},
   "outputs": [],
   "source": [
    "LDA = LinearDiscriminantAnalysis()"
   ]
  },
  {
   "cell_type": "code",
   "execution_count": 39,
   "id": "43a65d7b",
   "metadata": {},
   "outputs": [],
   "source": [
    "lda_model = LDA.fit(X_train, y_train)"
   ]
  },
  {
   "cell_type": "code",
   "execution_count": 40,
   "id": "cd73e858",
   "metadata": {},
   "outputs": [],
   "source": [
    "pred_train_lda = lda_model.predict(X_train)\n",
    "pred_test_lda = lda_model.predict(X_test)"
   ]
  },
  {
   "cell_type": "code",
   "execution_count": 43,
   "id": "94d96f26",
   "metadata": {},
   "outputs": [
    {
     "name": "stdout",
     "output_type": "stream",
     "text": [
      "              precision    recall  f1-score   support\n",
      "\n",
      "           0       0.95      0.99      0.97      2141\n",
      "           1       0.83      0.56      0.67       260\n",
      "\n",
      "    accuracy                           0.94      2401\n",
      "   macro avg       0.89      0.77      0.82      2401\n",
      "weighted avg       0.94      0.94      0.93      2401\n",
      "\n"
     ]
    }
   ],
   "source": [
    "print(metrics.classification_report(y_train, pred_train_lda))"
   ]
  },
  {
   "cell_type": "code",
   "execution_count": 44,
   "id": "74bbdec7",
   "metadata": {},
   "outputs": [
    {
     "name": "stdout",
     "output_type": "stream",
     "text": [
      "              precision    recall  f1-score   support\n",
      "\n",
      "           0       0.95      0.98      0.97      1056\n",
      "           1       0.82      0.55      0.66       128\n",
      "\n",
      "    accuracy                           0.94      1184\n",
      "   macro avg       0.88      0.77      0.81      1184\n",
      "weighted avg       0.93      0.94      0.93      1184\n",
      "\n"
     ]
    }
   ],
   "source": [
    "print(metrics.classification_report(y_test, pred_test_lda))"
   ]
  },
  {
   "cell_type": "code",
   "execution_count": 45,
   "id": "912c40ed",
   "metadata": {},
   "outputs": [],
   "source": [
    "pred_train_lda_prob = lda_model.predict_proba(X_train)[:,1]\n",
    "pred_test_lda_prob = lda_model.predict_proba(X_test)[:,1]"
   ]
  },
  {
   "cell_type": "code",
   "execution_count": 46,
   "id": "329c730d",
   "metadata": {},
   "outputs": [],
   "source": [
    "fpr, tpr, thresholds = roc_curve(y_train,pred_train_lda_prob)"
   ]
  },
  {
   "cell_type": "code",
   "execution_count": 47,
   "id": "8b54146b",
   "metadata": {},
   "outputs": [
    {
     "data": {
      "text/plain": [
       "0.07426914816334489"
      ]
     },
     "execution_count": 47,
     "metadata": {},
     "output_type": "execute_result"
    }
   ],
   "source": [
    "optimal_idx = np.argmax(tpr - fpr)\n",
    "optimal_threshold = thresholds[optimal_idx]\n",
    "optimal_threshold"
   ]
  },
  {
   "cell_type": "code",
   "execution_count": 48,
   "id": "3c110832",
   "metadata": {},
   "outputs": [],
   "source": [
    "y_class_pred_lda_train=[]\n",
    "for i in range(0,len(pred_train_lda_prob)):\n",
    "    if np.array(pred_train_lda_prob)[i]>0.074:\n",
    "        a=1\n",
    "    else:\n",
    "        a=0\n",
    "    y_class_pred_lda_train.append(a)"
   ]
  },
  {
   "cell_type": "code",
   "execution_count": 49,
   "id": "29a8a156",
   "metadata": {},
   "outputs": [
    {
     "data": {
      "image/png": "[encoded data removed]",
      "text/plain": [
       "<Figure size 432x288 with 2 Axes>"
      ]
     },
     "metadata": {
      "needs_background": "light"
     },
     "output_type": "display_data"
    }
   ],
   "source": [
    "sns.heatmap((metrics.confusion_matrix(y_train,y_class_pred_lda_train)),annot=True,fmt='.5g'\n",
    "            ,cmap='Blues');\n",
    "plt.xlabel('Predicted');\n",
    "plt.ylabel('Actuals',rotation=0);"
   ]
  },
  {
   "cell_type": "code",
   "execution_count": 50,
   "id": "9efa79bb",
   "metadata": {},
   "outputs": [
    {
     "name": "stdout",
     "output_type": "stream",
     "text": [
      "              precision    recall  f1-score   support\n",
      "\n",
      "           0      0.987     0.904     0.944      2141\n",
      "           1      0.533     0.904     0.670       260\n",
      "\n",
      "    accuracy                          0.904      2401\n",
      "   macro avg      0.760     0.904     0.807      2401\n",
      "weighted avg      0.938     0.904     0.914      2401\n",
      "\n"
     ]
    }
   ],
   "source": [
    "print(metrics.classification_report(y_train, y_class_pred_lda_train,digits=3))"
   ]
  },
  {
   "cell_type": "code",
   "execution_count": 51,
   "id": "4dd97ed8",
   "metadata": {},
   "outputs": [],
   "source": [
    "y_class_pred_lda_test=[]\n",
    "for i in range(0,len(pred_test_lda_prob)):\n",
    "    if np.array(pred_test_lda_prob)[i]>0.074:\n",
    "        a=1\n",
    "    else:\n",
    "        a=0\n",
    "    y_class_pred_lda_test.append(a)"
   ]
  },
  {
   "cell_type": "code",
   "execution_count": 52,
   "id": "7b6574fd",
   "metadata": {},
   "outputs": [
    {
     "data": {
      "image/png": "[encoded data removed]",
      "text/plain": [
       "<Figure size 432x288 with 2 Axes>"
      ]
     },
     "metadata": {
      "needs_background": "light"
     },
     "output_type": "display_data"
    }
   ],
   "source": [
    "sns.heatmap((metrics.confusion_matrix(y_test, y_class_pred_lda_test)),annot=True,fmt='.5g'\n",
    "            ,cmap='Blues');\n",
    "plt.xlabel('Predicted');\n",
    "plt.ylabel('Actuals',rotation=0);"
   ]
  },
  {
   "cell_type": "code",
   "execution_count": 53,
   "id": "d2214504",
   "metadata": {},
   "outputs": [
    {
     "name": "stdout",
     "output_type": "stream",
     "text": [
      "              precision    recall  f1-score   support\n",
      "\n",
      "           0      0.980     0.895     0.936      1056\n",
      "           1      0.495     0.852     0.626       128\n",
      "\n",
      "    accuracy                          0.890      1184\n",
      "   macro avg      0.738     0.873     0.781      1184\n",
      "weighted avg      0.928     0.890     0.902      1184\n",
      "\n"
     ]
    }
   ],
   "source": [
    "print(metrics.classification_report(y_test, y_class_pred_lda_test,digits=3))"
   ]
  },
  {
   "cell_type": "code",
   "execution_count": 54,
   "id": "8fcf63e4",
   "metadata": {},
   "outputs": [
    {
     "name": "stdout",
     "output_type": "stream",
     "text": [
      "AUC: 0.958\n"
     ]
    },
    {
     "data": {
      "text/plain": [
       "Text(0, 0.5, 'True positive Rate')"
      ]
     },
     "execution_count": 54,
     "metadata": {},
     "output_type": "execute_result"
    },
    {
     "data": {
      "image/png": "[encoded data removed]",
      "text/plain": [
       "<Figure size 432x288 with 1 Axes>"
      ]
     },
     "metadata": {
      "needs_background": "light"
     },
     "output_type": "display_data"
    }
   ],
   "source": [
    "# predict probabilities\n",
    "probs = lda_model.predict_proba(X_train)\n",
    "# probs = RF_model.predict_proba(X_train_res)\n",
    "# keep probabilities for the positive outcome only\n",
    "probs = probs[:, 1]\n",
    "# calculate AUC\n",
    "auc = roc_auc_score(y_train, probs)\n",
    "# auc = roc_auc_score(y_train_res, probs)\n",
    "RF_train_auc=roc_auc_score(y_train, probs)\n",
    "# RF_train_auc=roc_auc_score(y_train_res, probs)\n",
    "print('AUC: %.3f' % auc)\n",
    "# calculate roc curve\n",
    "train_fpr, train_tpr, train_thresholds = roc_curve(y_train, probs)\n",
    "# train_fpr, train_tpr, train_thresholds = roc_curve(y_train_res, probs)\n",
    "plt.plot([0, 1], [0, 1], linestyle='--')\n",
    "# plot the roc curve for the model\n",
    "plt.plot(train_fpr, train_tpr);\n",
    "plt.xlabel('False positive Rate')\n",
    "plt.ylabel('True positive Rate')"
   ]
  },
  {
   "cell_type": "code",
   "execution_count": 55,
   "id": "0757ecec",
   "metadata": {},
   "outputs": [
    {
     "name": "stdout",
     "output_type": "stream",
     "text": [
      "AUC: 0.950\n"
     ]
    },
    {
     "data": {
      "text/plain": [
       "Text(0, 0.5, 'True positive Rate')"
      ]
     },
     "execution_count": 55,
     "metadata": {},
     "output_type": "execute_result"
    },
    {
     "data": {
      "image/png": "[encoded data removed]",
      "text/plain": [
       "<Figure size 432x288 with 1 Axes>"
      ]
     },
     "metadata": {
      "needs_background": "light"
     },
     "output_type": "display_data"
    }
   ],
   "source": [
    "# predict probabilities\n",
    "probs = lda_model.predict_proba(X_test)\n",
    "# keep probabilities for the positive outcome only\n",
    "probs = probs[:, 1]\n",
    "# calculate AUC\n",
    "# test_auc = roc_auc_score(y_test, probs)\n",
    "RF_test_auc = roc_auc_score(y_test, probs)\n",
    "print('AUC: %.3f' % RF_test_auc)\n",
    "# calculate roc curve\n",
    "test_fpr, test_tpr, test_thresholds = roc_curve(y_test, probs)\n",
    "plt.plot([0, 1], [0, 1], linestyle='--')\n",
    "# plot the roc curve for the model\n",
    "plt.plot(test_fpr, test_tpr);\n",
    "plt.xlabel('False positive Rate')\n",
    "plt.ylabel('True positive Rate')"
   ]
  },
  {
   "cell_type": "markdown",
   "id": "cbff1df3",
   "metadata": {},
   "source": [
    "# Logistic Regression"
   ]
  },
  {
   "cell_type": "code",
   "execution_count": 56,
   "id": "55251b53",
   "metadata": {},
   "outputs": [],
   "source": [
    "log_model=LogisticRegression(random_state=1)"
   ]
  },
  {
   "cell_type": "code",
   "execution_count": 57,
   "id": "8a64ed6a",
   "metadata": {},
   "outputs": [
    {
     "data": {
      "text/plain": [
       "LogisticRegression(random_state=1)"
      ]
     },
     "execution_count": 57,
     "metadata": {},
     "output_type": "execute_result"
    }
   ],
   "source": [
    "log_model.fit(X_train, y_train)"
   ]
  },
  {
   "cell_type": "code",
   "execution_count": 58,
   "id": "7d0cb016",
   "metadata": {},
   "outputs": [],
   "source": [
    "ytrain_predict = log_model.predict(X_train)\n",
    "# ytrain_predict = log_model.predict(X_train_res)\n",
    "ytest_predict = log_model.predict(X_test)"
   ]
  },
  {
   "cell_type": "code",
   "execution_count": 59,
   "id": "3505c19a",
   "metadata": {},
   "outputs": [
    {
     "name": "stdout",
     "output_type": "stream",
     "text": [
      "Classification Report of the training data:\n",
      "\n",
      "               precision    recall  f1-score   support\n",
      "\n",
      "           0       0.97      0.99      0.98      2141\n",
      "           1       0.87      0.72      0.79       260\n",
      "\n",
      "    accuracy                           0.96      2401\n",
      "   macro avg       0.92      0.85      0.88      2401\n",
      "weighted avg       0.96      0.96      0.96      2401\n",
      " \n",
      "\n",
      "*******************************************************\n",
      "*******************************************************\n",
      "Classification Report of the test data:\n",
      "\n",
      "               precision    recall  f1-score   support\n",
      "\n",
      "           0       0.96      0.98      0.97      1056\n",
      "           1       0.82      0.70      0.75       128\n",
      "\n",
      "    accuracy                           0.95      1184\n",
      "   macro avg       0.89      0.84      0.86      1184\n",
      "weighted avg       0.95      0.95      0.95      1184\n",
      " \n",
      "\n"
     ]
    }
   ],
   "source": [
    "print('Classification Report of the training data:\\n\\n',metrics.classification_report(y_train,ytrain_predict),'\\n')\n",
    "# print('Classification Report of the training data:\\n\\n',metrics.classification_report(y_train_res,pred_class_train),'\\n')\n",
    "print('*******************************************************')\n",
    "print('*******************************************************')\n",
    "print('Classification Report of the test data:\\n\\n',metrics.classification_report(y_test,ytest_predict),'\\n')"
   ]
  },
  {
   "cell_type": "code",
   "execution_count": 60,
   "id": "128b69ac",
   "metadata": {},
   "outputs": [],
   "source": [
    "# Training Data Probability Prediction\n",
    "pred_log_prob_train = log_model.predict_proba(X_train)\n",
    "\n",
    "# Test Data Probability Prediction\n",
    "pred_log_prob_test = log_model.predict_proba(X_test)"
   ]
  },
  {
   "cell_type": "code",
   "execution_count": 61,
   "id": "36f3f88e",
   "metadata": {},
   "outputs": [
    {
     "name": "stdout",
     "output_type": "stream",
     "text": [
      "0.1 \n",
      "\n",
      "Accuracy Score 0.908\n",
      "F1 Score 0.6909 \n",
      "\n",
      "precision Score 0.5429 \n",
      "\n",
      "0.2 \n",
      "\n",
      "Accuracy Score 0.9417\n",
      "F1 Score 0.7697 \n",
      "\n",
      "precision Score 0.6724 \n",
      "\n",
      "0.3 \n",
      "\n",
      "Accuracy Score 0.9521\n",
      "F1 Score 0.7913 \n",
      "\n",
      "precision Score 0.7491 \n",
      "\n",
      "0.4 \n",
      "\n",
      "Accuracy Score 0.9546\n",
      "F1 Score 0.7875 \n",
      "\n",
      "precision Score 0.7984 \n",
      "\n",
      "0.5 \n",
      "\n",
      "Accuracy Score 0.9584\n",
      "F1 Score 0.789 \n",
      "\n",
      "precision Score 0.8738 \n",
      "\n",
      "0.6 \n",
      "\n",
      "Accuracy Score 0.9563\n",
      "F1 Score 0.764 \n",
      "\n",
      "precision Score 0.9189 \n",
      "\n",
      "0.7 \n",
      "\n",
      "Accuracy Score 0.95\n",
      "F1 Score 0.7156 \n",
      "\n",
      "precision Score 0.9321 \n",
      "\n",
      "0.8 \n",
      "\n",
      "Accuracy Score 0.9434\n",
      "F1 Score 0.6617 \n",
      "\n",
      "precision Score 0.9366 \n",
      "\n",
      "0.9 \n",
      "\n",
      "Accuracy Score 0.9375\n",
      "F1 Score 0.6032 \n",
      "\n",
      "precision Score 0.9661 \n",
      "\n"
     ]
    }
   ],
   "source": [
    "for j in np.arange(0.1,1,0.1):\n",
    "    custom_prob = j #defining the cut-off value of our choice\n",
    "    custom_cutoff_data=[]#defining an empty list\n",
    "    for i in range(0,len(y_train)):#defining a loop for the length of the test data\n",
    "        if np.array(pred_log_prob_train[:,1])[i] > custom_prob:#issuing a condition for our probability values to be \n",
    "            #greater than the custom cutoff value\n",
    "            a=1#if the probability values are greater than the custom cutoff then the value should be 1\n",
    "        else:\n",
    "            a=0#if the probability values are less than the custom cutoff then the value should be 0\n",
    "        custom_cutoff_data.append(a)#adding either 1 or 0 based on the condition to the end of the list defined by us\n",
    "    print(round(j,3),'\\n')\n",
    "    print('Accuracy Score',round(metrics.accuracy_score(y_train,custom_cutoff_data),4))\n",
    "    print('F1 Score',round(metrics.f1_score(y_train,custom_cutoff_data),4),'\\n')\n",
    "    print('precision Score',round(metrics.precision_score(y_train,custom_cutoff_data),4),'\\n')"
   ]
  },
  {
   "cell_type": "code",
   "execution_count": 62,
   "id": "db25ef3f",
   "metadata": {},
   "outputs": [],
   "source": [
    "threshold=0.4\n",
    "predicted = (log_model.predict_proba(X_test)[:,1]>=threshold).astype('int')"
   ]
  },
  {
   "cell_type": "code",
   "execution_count": 63,
   "id": "55111fa9",
   "metadata": {},
   "outputs": [],
   "source": [
    "predicted1 = (log_model.predict_proba(X_train)[:,1]>=threshold).astype('int')"
   ]
  },
  {
   "cell_type": "code",
   "execution_count": 64,
   "id": "2dc9a974",
   "metadata": {},
   "outputs": [
    {
     "name": "stdout",
     "output_type": "stream",
     "text": [
      "              precision    recall  f1-score   support\n",
      "\n",
      "           0       0.97      0.98      0.97      2141\n",
      "           1       0.80      0.78      0.79       260\n",
      "\n",
      "    accuracy                           0.95      2401\n",
      "   macro avg       0.89      0.88      0.88      2401\n",
      "weighted avg       0.95      0.95      0.95      2401\n",
      "\n"
     ]
    }
   ],
   "source": [
    "print(classification_report(y_train, predicted1))"
   ]
  },
  {
   "cell_type": "code",
   "execution_count": 65,
   "id": "949730f0",
   "metadata": {},
   "outputs": [
    {
     "name": "stdout",
     "output_type": "stream",
     "text": [
      "              precision    recall  f1-score   support\n",
      "\n",
      "           0       0.97      0.97      0.97      1056\n",
      "           1       0.77      0.75      0.76       128\n",
      "\n",
      "    accuracy                           0.95      1184\n",
      "   macro avg       0.87      0.86      0.87      1184\n",
      "weighted avg       0.95      0.95      0.95      1184\n",
      "\n"
     ]
    }
   ],
   "source": [
    "print(classification_report(y_test, predicted))"
   ]
  },
  {
   "cell_type": "code",
   "execution_count": 66,
   "id": "45d7c5d9",
   "metadata": {},
   "outputs": [
    {
     "name": "stdout",
     "output_type": "stream",
     "text": [
      "AUC: 0.977\n"
     ]
    },
    {
     "data": {
      "text/plain": [
       "Text(0, 0.5, 'True positive Rate')"
      ]
     },
     "execution_count": 66,
     "metadata": {},
     "output_type": "execute_result"
    },
    {
     "data": {
      "image/png": "[encoded data removed]",
      "text/plain": [
       "<Figure size 432x288 with 1 Axes>"
      ]
     },
     "metadata": {
      "needs_background": "light"
     },
     "output_type": "display_data"
    }
   ],
   "source": [
    "# predict probabilities\n",
    "probs = log_model.predict_proba(X_train)\n",
    "# probs = RF_model.predict_proba(X_train_res)\n",
    "# keep probabilities for the positive outcome only\n",
    "probs = probs[:, 1]\n",
    "# calculate AUC\n",
    "auc = roc_auc_score(y_train, probs)\n",
    "# auc = roc_auc_score(y_train_res, probs)\n",
    "RF_train_auc=roc_auc_score(y_train, probs)\n",
    "# RF_train_auc=roc_auc_score(y_train_res, probs)\n",
    "print('AUC: %.3f' % auc)\n",
    "# calculate roc curve\n",
    "train_fpr, train_tpr, train_thresholds = roc_curve(y_train, probs)\n",
    "# train_fpr, train_tpr, train_thresholds = roc_curve(y_train_res, probs)\n",
    "plt.plot([0, 1], [0, 1], linestyle='--')\n",
    "# plot the roc curve for the model\n",
    "plt.plot(train_fpr, train_tpr);\n",
    "plt.xlabel('False positive Rate')\n",
    "plt.ylabel('True positive Rate')"
   ]
  },
  {
   "cell_type": "code",
   "execution_count": 67,
   "id": "bb829857",
   "metadata": {},
   "outputs": [
    {
     "name": "stdout",
     "output_type": "stream",
     "text": [
      "AUC: 0.969\n"
     ]
    },
    {
     "data": {
      "text/plain": [
       "Text(0, 0.5, 'True positive Rate')"
      ]
     },
     "execution_count": 67,
     "metadata": {},
     "output_type": "execute_result"
    },
    {
     "data": {
      "image/png": "[encoded data removed]",
      "text/plain": [
       "<Figure size 432x288 with 1 Axes>"
      ]
     },
     "metadata": {
      "needs_background": "light"
     },
     "output_type": "display_data"
    }
   ],
   "source": [
    "# predict probabilities\n",
    "probs = log_model.predict_proba(X_test)\n",
    "# keep probabilities for the positive outcome only\n",
    "probs = probs[:, 1]\n",
    "# calculate AUC\n",
    "# test_auc = roc_auc_score(y_test, probs)\n",
    "RF_test_auc = roc_auc_score(y_test, probs)\n",
    "print('AUC: %.3f' % RF_test_auc)\n",
    "# calculate roc curve\n",
    "test_fpr, test_tpr, test_thresholds = roc_curve(y_test, probs)\n",
    "plt.plot([0, 1], [0, 1], linestyle='--')\n",
    "# plot the roc curve for the model\n",
    "plt.plot(test_fpr, test_tpr);\n",
    "plt.xlabel('False positive Rate')\n",
    "plt.ylabel('True positive Rate')"
   ]
  },
  {
   "cell_type": "code",
   "execution_count": 68,
   "id": "d9fe825c",
   "metadata": {},
   "outputs": [
    {
     "name": "stdout",
     "output_type": "stream",
     "text": [
      "Area under the curve for LDA Classification Model is 0.8732244318181819\n",
      "Area under the curve for Random Forest Classification Model is 0.9326467803030303\n",
      "Area under the curve for Logisitic Classification Model is 0.8386600378787878\n"
     ]
    },
    {
     "data": {
      "image/png": "[encoded data removed]",
      "text/plain": [
       "<Figure size 720x504 with 1 Axes>"
      ]
     },
     "metadata": {
      "needs_background": "light"
     },
     "output_type": "display_data"
    }
   ],
   "source": [
    "models_names={lda_model:'LDA',best_grid:'RF',log_model:'Logistic'}\n",
    "\n",
    "# print('Area under the curve for LDA Classification Model is',roc_auc_score(y_test,lda_model.predict_proba(X_test)[:,1]))\n",
    "# print('Area under the curve for Random Forest Classification Model is',roc_auc_score(y_test,RF_model.predict_proba(X_test)[:,1]))\n",
    "\n",
    "print('Area under the curve for LDA Classification Model is',roc_auc_score(y_test, y_class_pred_lda_test))\n",
    "print('Area under the curve for Random Forest Classification Model is',roc_auc_score(y_test, pred_test_rf))\n",
    "print('Area under the curve for Logisitic Classification Model is',roc_auc_score(y_test, ytest_predict))\n",
    "\n",
    "plt.figure(figsize=(10,7))\n",
    "\n",
    "# fpr_rfc, tpr_rfc, thresholds = roc_curve(y_test,lda_model.predict_proba(X_test)[:,1])\n",
    "fpr_rfc, tpr_rfc, thresholds = roc_curve(y_test, y_class_pred_lda_test)\n",
    "plt.plot(fpr_rfc, tpr_rfc, marker='o',color='black') \n",
    "\n",
    "# fpr_rfc, tpr_rfc, thresholds = roc_curve(y_test,RF_model.predict_proba(X_test)[:,1])\n",
    "fpr_rfc, tpr_rfc, thresholds = roc_curve(y_test, pred_test_rf)\n",
    "plt.plot(fpr_rfc, tpr_rfc, marker='o',color='red') \n",
    "\n",
    "# fpr_rfc, tpr_rfc, thresholds = roc_curve(y_test,RF_model.predict_proba(X_test)[:,1])\n",
    "fpr_rfc, tpr_rfc, thresholds = roc_curve(y_test, ytest_predict)\n",
    "plt.plot(fpr_rfc, tpr_rfc, marker='o',color='green') \n",
    "\n",
    "plt.title('ROC Curve for {}'.format('Random Forest, LDA & Logistic'))\n",
    "plt.xlabel('False Positive Rate')\n",
    "plt.ylabel('True Positive Rate')\n",
    "plt.legend(models_names.values())\n",
    "plt.show()"
   ]
  },
  {
   "cell_type": "markdown",
   "id": "e2b935ee",
   "metadata": {},
   "source": [
    "# Market Risk Dataset - FRA Milestone 2"
   ]
  },
  {
   "cell_type": "code",
   "execution_count": 69,
   "id": "85dfef0d",
   "metadata": {},
   "outputs": [],
   "source": [
    "import numpy as np\n",
    "import matplotlib.pyplot as plt\n",
    "import matplotlib.mlab as mlab\n",
    "import pandas as pd\n",
    "import seaborn as sns # for making plots with seaborn\n",
    "color = sns.color_palette()\n",
    "import sklearn.metrics as metrics\n",
    "from scipy.stats import norm \n",
    "from tabulate import tabulate\n",
    "\n",
    "# from iexfinance.stocks import get_historical_data\n",
    "# from iexfinance.stocks import Stock\n",
    "from datetime import datetime\n",
    "\n",
    "import warnings\n",
    "warnings.filterwarnings(\"ignore\")"
   ]
  },
  {
   "cell_type": "code",
   "execution_count": 70,
   "id": "1be419d4",
   "metadata": {},
   "outputs": [],
   "source": [
    "stock_prices = pd.read_csv('Market+Risk+Dataset.csv')"
   ]
  },
  {
   "cell_type": "code",
   "execution_count": 71,
   "id": "f0906919",
   "metadata": {},
   "outputs": [
    {
     "data": {
      "text/html": [
       "<div>\n",
       "<style scoped>\n",
       "    .dataframe tbody tr th:only-of-type {\n",
       "        vertical-align: middle;\n",
       "    }\n",
       "\n",
       "    .dataframe tbody tr th {\n",
       "        vertical-align: top;\n",
       "    }\n",
       "\n",
       "    .dataframe thead th {\n",
       "        text-align: right;\n",
       "    }\n",
       "</style>\n",
       "<table border=\"1\" class=\"dataframe\">\n",
       "  <thead>\n",
       "    <tr style=\"text-align: right;\">\n",
       "      <th></th>\n",
       "      <th>Date</th>\n",
       "      <th>Infosys</th>\n",
       "      <th>Indian Hotel</th>\n",
       "      <th>Mahindra &amp; Mahindra</th>\n",
       "      <th>Axis Bank</th>\n",
       "      <th>SAIL</th>\n",
       "      <th>Shree Cement</th>\n",
       "      <th>Sun Pharma</th>\n",
       "      <th>Jindal Steel</th>\n",
       "      <th>Idea Vodafone</th>\n",
       "      <th>Jet Airways</th>\n",
       "    </tr>\n",
       "  </thead>\n",
       "  <tbody>\n",
       "    <tr>\n",
       "      <th>0</th>\n",
       "      <td>31-03-2014</td>\n",
       "      <td>264</td>\n",
       "      <td>69</td>\n",
       "      <td>455</td>\n",
       "      <td>263</td>\n",
       "      <td>68</td>\n",
       "      <td>5543</td>\n",
       "      <td>555</td>\n",
       "      <td>298</td>\n",
       "      <td>83</td>\n",
       "      <td>278</td>\n",
       "    </tr>\n",
       "    <tr>\n",
       "      <th>1</th>\n",
       "      <td>07-04-2014</td>\n",
       "      <td>257</td>\n",
       "      <td>68</td>\n",
       "      <td>458</td>\n",
       "      <td>276</td>\n",
       "      <td>70</td>\n",
       "      <td>5728</td>\n",
       "      <td>610</td>\n",
       "      <td>279</td>\n",
       "      <td>84</td>\n",
       "      <td>303</td>\n",
       "    </tr>\n",
       "    <tr>\n",
       "      <th>2</th>\n",
       "      <td>14-04-2014</td>\n",
       "      <td>254</td>\n",
       "      <td>68</td>\n",
       "      <td>454</td>\n",
       "      <td>270</td>\n",
       "      <td>68</td>\n",
       "      <td>5649</td>\n",
       "      <td>607</td>\n",
       "      <td>279</td>\n",
       "      <td>83</td>\n",
       "      <td>280</td>\n",
       "    </tr>\n",
       "    <tr>\n",
       "      <th>3</th>\n",
       "      <td>21-04-2014</td>\n",
       "      <td>253</td>\n",
       "      <td>68</td>\n",
       "      <td>488</td>\n",
       "      <td>283</td>\n",
       "      <td>68</td>\n",
       "      <td>5692</td>\n",
       "      <td>604</td>\n",
       "      <td>274</td>\n",
       "      <td>83</td>\n",
       "      <td>282</td>\n",
       "    </tr>\n",
       "    <tr>\n",
       "      <th>4</th>\n",
       "      <td>28-04-2014</td>\n",
       "      <td>256</td>\n",
       "      <td>65</td>\n",
       "      <td>482</td>\n",
       "      <td>282</td>\n",
       "      <td>63</td>\n",
       "      <td>5582</td>\n",
       "      <td>611</td>\n",
       "      <td>238</td>\n",
       "      <td>79</td>\n",
       "      <td>243</td>\n",
       "    </tr>\n",
       "  </tbody>\n",
       "</table>\n",
       "</div>"
      ],
      "text/plain": [
       "         Date  Infosys  Indian Hotel  Mahindra & Mahindra  Axis Bank  SAIL  \\\n",
       "0  31-03-2014      264            69                  455        263    68   \n",
       "1  07-04-2014      257            68                  458        276    70   \n",
       "2  14-04-2014      254            68                  454        270    68   \n",
       "3  21-04-2014      253            68                  488        283    68   \n",
       "4  28-04-2014      256            65                  482        282    63   \n",
       "\n",
       "   Shree Cement  Sun Pharma  Jindal Steel  Idea Vodafone  Jet Airways  \n",
       "0          5543         555           298             83          278  \n",
       "1          5728         610           279             84          303  \n",
       "2          5649         607           279             83          280  \n",
       "3          5692         604           274             83          282  \n",
       "4          5582         611           238             79          243  "
      ]
     },
     "execution_count": 71,
     "metadata": {},
     "output_type": "execute_result"
    }
   ],
   "source": [
    "stock_prices.head()"
   ]
  },
  {
   "cell_type": "code",
   "execution_count": 72,
   "id": "71bc3542",
   "metadata": {},
   "outputs": [],
   "source": [
    "stock_prices.columns = stock_prices.columns.str.replace(' ', '_').str.replace('&', '')"
   ]
  },
  {
   "cell_type": "code",
   "execution_count": 73,
   "id": "81388e57",
   "metadata": {},
   "outputs": [],
   "source": [
    "stock_prices.rename(columns={'Mahindra__Mahindra':'Mahindra'}, inplace=True)"
   ]
  },
  {
   "cell_type": "code",
   "execution_count": 74,
   "id": "6ffcf668",
   "metadata": {},
   "outputs": [
    {
     "data": {
      "text/html": [
       "<div>\n",
       "<style scoped>\n",
       "    .dataframe tbody tr th:only-of-type {\n",
       "        vertical-align: middle;\n",
       "    }\n",
       "\n",
       "    .dataframe tbody tr th {\n",
       "        vertical-align: top;\n",
       "    }\n",
       "\n",
       "    .dataframe thead th {\n",
       "        text-align: right;\n",
       "    }\n",
       "</style>\n",
       "<table border=\"1\" class=\"dataframe\">\n",
       "  <thead>\n",
       "    <tr style=\"text-align: right;\">\n",
       "      <th></th>\n",
       "      <th>Date</th>\n",
       "      <th>Infosys</th>\n",
       "      <th>Indian_Hotel</th>\n",
       "      <th>Mahindra</th>\n",
       "      <th>Axis_Bank</th>\n",
       "      <th>SAIL</th>\n",
       "      <th>Shree_Cement</th>\n",
       "      <th>Sun_Pharma</th>\n",
       "      <th>Jindal_Steel</th>\n",
       "      <th>Idea_Vodafone</th>\n",
       "      <th>Jet_Airways</th>\n",
       "    </tr>\n",
       "  </thead>\n",
       "  <tbody>\n",
       "    <tr>\n",
       "      <th>0</th>\n",
       "      <td>31-03-2014</td>\n",
       "      <td>264</td>\n",
       "      <td>69</td>\n",
       "      <td>455</td>\n",
       "      <td>263</td>\n",
       "      <td>68</td>\n",
       "      <td>5543</td>\n",
       "      <td>555</td>\n",
       "      <td>298</td>\n",
       "      <td>83</td>\n",
       "      <td>278</td>\n",
       "    </tr>\n",
       "    <tr>\n",
       "      <th>1</th>\n",
       "      <td>07-04-2014</td>\n",
       "      <td>257</td>\n",
       "      <td>68</td>\n",
       "      <td>458</td>\n",
       "      <td>276</td>\n",
       "      <td>70</td>\n",
       "      <td>5728</td>\n",
       "      <td>610</td>\n",
       "      <td>279</td>\n",
       "      <td>84</td>\n",
       "      <td>303</td>\n",
       "    </tr>\n",
       "    <tr>\n",
       "      <th>2</th>\n",
       "      <td>14-04-2014</td>\n",
       "      <td>254</td>\n",
       "      <td>68</td>\n",
       "      <td>454</td>\n",
       "      <td>270</td>\n",
       "      <td>68</td>\n",
       "      <td>5649</td>\n",
       "      <td>607</td>\n",
       "      <td>279</td>\n",
       "      <td>83</td>\n",
       "      <td>280</td>\n",
       "    </tr>\n",
       "    <tr>\n",
       "      <th>3</th>\n",
       "      <td>21-04-2014</td>\n",
       "      <td>253</td>\n",
       "      <td>68</td>\n",
       "      <td>488</td>\n",
       "      <td>283</td>\n",
       "      <td>68</td>\n",
       "      <td>5692</td>\n",
       "      <td>604</td>\n",
       "      <td>274</td>\n",
       "      <td>83</td>\n",
       "      <td>282</td>\n",
       "    </tr>\n",
       "    <tr>\n",
       "      <th>4</th>\n",
       "      <td>28-04-2014</td>\n",
       "      <td>256</td>\n",
       "      <td>65</td>\n",
       "      <td>482</td>\n",
       "      <td>282</td>\n",
       "      <td>63</td>\n",
       "      <td>5582</td>\n",
       "      <td>611</td>\n",
       "      <td>238</td>\n",
       "      <td>79</td>\n",
       "      <td>243</td>\n",
       "    </tr>\n",
       "  </tbody>\n",
       "</table>\n",
       "</div>"
      ],
      "text/plain": [
       "         Date  Infosys  Indian_Hotel  Mahindra  Axis_Bank  SAIL  Shree_Cement  \\\n",
       "0  31-03-2014      264            69       455        263    68          5543   \n",
       "1  07-04-2014      257            68       458        276    70          5728   \n",
       "2  14-04-2014      254            68       454        270    68          5649   \n",
       "3  21-04-2014      253            68       488        283    68          5692   \n",
       "4  28-04-2014      256            65       482        282    63          5582   \n",
       "\n",
       "   Sun_Pharma  Jindal_Steel  Idea_Vodafone  Jet_Airways  \n",
       "0         555           298             83          278  \n",
       "1         610           279             84          303  \n",
       "2         607           279             83          280  \n",
       "3         604           274             83          282  \n",
       "4         611           238             79          243  "
      ]
     },
     "execution_count": 74,
     "metadata": {},
     "output_type": "execute_result"
    }
   ],
   "source": [
    "stock_prices.head()"
   ]
  },
  {
   "cell_type": "code",
   "execution_count": 75,
   "id": "3d274e27",
   "metadata": {},
   "outputs": [],
   "source": [
    "stock_prices['Date'] = [pd.to_datetime(d,format='%d-%m-%Y') for d in stock_prices['Date']]"
   ]
  },
  {
   "cell_type": "code",
   "execution_count": 76,
   "id": "73f0f8d6",
   "metadata": {},
   "outputs": [
    {
     "name": "stdout",
     "output_type": "stream",
     "text": [
      "<class 'pandas.core.frame.DataFrame'>\n",
      "RangeIndex: 314 entries, 0 to 313\n",
      "Data columns (total 11 columns):\n",
      " #   Column         Non-Null Count  Dtype         \n",
      "---  ------         --------------  -----         \n",
      " 0   Date           314 non-null    datetime64[ns]\n",
      " 1   Infosys        314 non-null    int64         \n",
      " 2   Indian_Hotel   314 non-null    int64         \n",
      " 3   Mahindra       314 non-null    int64         \n",
      " 4   Axis_Bank      314 non-null    int64         \n",
      " 5   SAIL           314 non-null    int64         \n",
      " 6   Shree_Cement   314 non-null    int64         \n",
      " 7   Sun_Pharma     314 non-null    int64         \n",
      " 8   Jindal_Steel   314 non-null    int64         \n",
      " 9   Idea_Vodafone  314 non-null    int64         \n",
      " 10  Jet_Airways    314 non-null    int64         \n",
      "dtypes: datetime64[ns](1), int64(10)\n",
      "memory usage: 27.1 KB\n"
     ]
    }
   ],
   "source": [
    "stock_prices.info()"
   ]
  },
  {
   "cell_type": "code",
   "execution_count": 77,
   "id": "395eca4d",
   "metadata": {},
   "outputs": [
    {
     "data": {
      "text/plain": [
       "0     2014-03-31\n",
       "1     2014-04-07\n",
       "2     2014-04-14\n",
       "3     2014-04-21\n",
       "4     2014-04-28\n",
       "5     2014-05-05\n",
       "6     2014-05-12\n",
       "7     2014-05-19\n",
       "8     2014-05-26\n",
       "9     2014-06-02\n",
       "10    2014-06-09\n",
       "11    2014-06-16\n",
       "12    2014-06-23\n",
       "13    2014-06-30\n",
       "14    2014-07-07\n",
       "15    2014-07-14\n",
       "16    2014-07-21\n",
       "17    2014-07-28\n",
       "18    2014-08-04\n",
       "19    2014-08-11\n",
       "20    2014-08-18\n",
       "21    2014-08-25\n",
       "22    2014-09-01\n",
       "23    2014-09-08\n",
       "24    2014-09-15\n",
       "25    2014-09-22\n",
       "26    2014-09-29\n",
       "27    2014-10-06\n",
       "28    2014-10-13\n",
       "29    2014-10-20\n",
       "30    2014-10-27\n",
       "31    2014-11-03\n",
       "32    2014-11-10\n",
       "33    2014-11-17\n",
       "34    2014-11-24\n",
       "35    2014-12-01\n",
       "36    2014-12-08\n",
       "37    2014-12-15\n",
       "38    2014-12-22\n",
       "39    2014-12-29\n",
       "40    2015-01-05\n",
       "41    2015-01-12\n",
       "42    2015-01-19\n",
       "43    2015-01-26\n",
       "44    2015-02-02\n",
       "45    2015-02-09\n",
       "46    2015-02-16\n",
       "47    2015-02-23\n",
       "48    2015-03-02\n",
       "49    2015-03-09\n",
       "50    2015-03-16\n",
       "51    2015-03-23\n",
       "52    2015-03-30\n",
       "53    2015-04-06\n",
       "54    2015-04-13\n",
       "55    2015-04-20\n",
       "56    2015-04-27\n",
       "57    2015-05-04\n",
       "58    2015-05-11\n",
       "59    2015-05-18\n",
       "60    2015-05-25\n",
       "61    2015-06-01\n",
       "62    2015-06-08\n",
       "63    2015-06-15\n",
       "64    2015-06-22\n",
       "65    2015-06-29\n",
       "66    2015-07-06\n",
       "67    2015-07-13\n",
       "68    2015-07-20\n",
       "69    2015-07-27\n",
       "70    2015-08-03\n",
       "71    2015-08-10\n",
       "72    2015-08-17\n",
       "73    2015-08-24\n",
       "74    2015-08-31\n",
       "75    2015-09-07\n",
       "76    2015-09-14\n",
       "77    2015-09-21\n",
       "78    2015-09-28\n",
       "79    2015-10-05\n",
       "80    2015-10-12\n",
       "81    2015-10-19\n",
       "82    2015-10-26\n",
       "83    2015-11-02\n",
       "84    2015-11-09\n",
       "85    2015-11-16\n",
       "86    2015-11-23\n",
       "87    2015-11-30\n",
       "88    2015-12-07\n",
       "89    2015-12-14\n",
       "90    2015-12-21\n",
       "91    2015-12-28\n",
       "92    2016-01-04\n",
       "93    2016-01-11\n",
       "94    2016-01-18\n",
       "95    2016-01-25\n",
       "96    2016-02-01\n",
       "97    2016-02-08\n",
       "98    2016-02-15\n",
       "99    2016-02-22\n",
       "100   2016-02-29\n",
       "101   2016-03-07\n",
       "102   2016-03-14\n",
       "103   2016-03-21\n",
       "104   2016-03-28\n",
       "105   2016-04-04\n",
       "106   2016-04-11\n",
       "107   2016-04-18\n",
       "108   2016-04-25\n",
       "109   2016-05-02\n",
       "110   2016-05-09\n",
       "111   2016-05-16\n",
       "112   2016-05-23\n",
       "113   2016-05-30\n",
       "114   2016-06-06\n",
       "115   2016-06-13\n",
       "116   2016-06-20\n",
       "117   2016-06-27\n",
       "118   2016-07-04\n",
       "119   2016-07-11\n",
       "120   2016-07-18\n",
       "121   2016-07-25\n",
       "122   2016-08-01\n",
       "123   2016-08-08\n",
       "124   2016-08-15\n",
       "125   2016-08-22\n",
       "126   2016-08-29\n",
       "127   2016-09-05\n",
       "128   2016-09-12\n",
       "129   2016-09-19\n",
       "130   2016-09-26\n",
       "131   2016-10-03\n",
       "132   2016-10-10\n",
       "133   2016-10-17\n",
       "134   2016-10-24\n",
       "135   2016-10-31\n",
       "136   2016-11-07\n",
       "137   2016-11-14\n",
       "138   2016-11-21\n",
       "139   2016-11-28\n",
       "140   2016-12-05\n",
       "141   2016-12-12\n",
       "142   2016-12-19\n",
       "143   2016-12-26\n",
       "144   2017-01-02\n",
       "145   2017-01-09\n",
       "146   2017-01-16\n",
       "147   2017-01-23\n",
       "148   2017-01-30\n",
       "149   2017-02-06\n",
       "150   2017-02-13\n",
       "151   2017-02-20\n",
       "152   2017-02-27\n",
       "153   2017-03-06\n",
       "154   2017-03-13\n",
       "155   2017-03-20\n",
       "156   2017-03-27\n",
       "157   2017-04-03\n",
       "158   2017-04-10\n",
       "159   2017-04-17\n",
       "160   2017-04-24\n",
       "161   2017-05-01\n",
       "162   2017-05-08\n",
       "163   2017-05-15\n",
       "164   2017-05-22\n",
       "165   2017-05-29\n",
       "166   2017-06-05\n",
       "167   2017-06-12\n",
       "168   2017-06-19\n",
       "169   2017-06-26\n",
       "170   2017-07-03\n",
       "171   2017-07-10\n",
       "172   2017-07-17\n",
       "173   2017-07-24\n",
       "174   2017-07-31\n",
       "175   2017-08-07\n",
       "176   2017-08-14\n",
       "177   2017-08-21\n",
       "178   2017-08-28\n",
       "179   2017-09-04\n",
       "180   2017-09-11\n",
       "181   2017-09-18\n",
       "182   2017-09-25\n",
       "183   2017-10-02\n",
       "184   2017-10-09\n",
       "185   2017-10-16\n",
       "186   2017-10-23\n",
       "187   2017-10-30\n",
       "188   2017-11-06\n",
       "189   2017-11-13\n",
       "190   2017-11-20\n",
       "191   2017-11-27\n",
       "192   2017-12-04\n",
       "193   2017-12-11\n",
       "194   2017-12-18\n",
       "195   2017-12-25\n",
       "196   2018-01-01\n",
       "197   2018-01-08\n",
       "198   2018-01-15\n",
       "199   2018-01-22\n",
       "200   2018-01-29\n",
       "201   2018-02-05\n",
       "202   2018-02-12\n",
       "203   2018-02-19\n",
       "204   2018-02-26\n",
       "205   2018-03-05\n",
       "206   2018-03-12\n",
       "207   2018-03-19\n",
       "208   2018-03-26\n",
       "209   2018-04-02\n",
       "210   2018-04-09\n",
       "211   2018-04-16\n",
       "212   2018-04-23\n",
       "213   2018-04-30\n",
       "214   2018-05-07\n",
       "215   2018-05-14\n",
       "216   2018-05-21\n",
       "217   2018-05-28\n",
       "218   2018-06-04\n",
       "219   2018-06-11\n",
       "220   2018-06-18\n",
       "221   2018-06-25\n",
       "222   2018-07-02\n",
       "223   2018-07-09\n",
       "224   2018-07-16\n",
       "225   2018-07-23\n",
       "226   2018-07-30\n",
       "227   2018-08-06\n",
       "228   2018-08-13\n",
       "229   2018-08-20\n",
       "230   2018-08-27\n",
       "231   2018-09-03\n",
       "232   2018-09-10\n",
       "233   2018-09-17\n",
       "234   2018-09-24\n",
       "235   2018-10-01\n",
       "236   2018-10-08\n",
       "237   2018-10-15\n",
       "238   2018-10-22\n",
       "239   2018-10-29\n",
       "240   2018-11-05\n",
       "241   2018-11-12\n",
       "242   2018-11-19\n",
       "243   2018-11-26\n",
       "244   2018-12-03\n",
       "245   2018-12-10\n",
       "246   2018-12-17\n",
       "247   2018-12-24\n",
       "248   2018-12-31\n",
       "249   2019-01-07\n",
       "250   2019-01-14\n",
       "251   2019-01-21\n",
       "252   2019-01-28\n",
       "253   2019-02-04\n",
       "254   2019-02-11\n",
       "255   2019-02-18\n",
       "256   2019-02-25\n",
       "257   2019-03-04\n",
       "258   2019-03-11\n",
       "259   2019-03-18\n",
       "260   2019-03-25\n",
       "261   2019-04-01\n",
       "262   2019-04-08\n",
       "263   2019-04-15\n",
       "264   2019-04-22\n",
       "265   2019-04-29\n",
       "266   2019-05-06\n",
       "267   2019-05-13\n",
       "268   2019-05-20\n",
       "269   2019-05-27\n",
       "270   2019-06-03\n",
       "271   2019-06-10\n",
       "272   2019-06-17\n",
       "273   2019-06-24\n",
       "274   2019-07-01\n",
       "275   2019-07-08\n",
       "276   2019-07-15\n",
       "277   2019-07-22\n",
       "278   2019-07-29\n",
       "279   2019-08-05\n",
       "280   2019-08-12\n",
       "281   2019-08-19\n",
       "282   2019-08-26\n",
       "283   2019-09-02\n",
       "284   2019-09-09\n",
       "285   2019-09-16\n",
       "286   2019-09-23\n",
       "287   2019-09-30\n",
       "288   2019-10-07\n",
       "289   2019-10-14\n",
       "290   2019-10-21\n",
       "291   2019-10-28\n",
       "292   2019-11-04\n",
       "293   2019-11-11\n",
       "294   2019-11-18\n",
       "295   2019-11-25\n",
       "296   2019-12-02\n",
       "297   2019-12-09\n",
       "298   2019-12-16\n",
       "299   2019-12-23\n",
       "300   2019-12-30\n",
       "301   2020-01-06\n",
       "302   2020-01-13\n",
       "303   2020-01-20\n",
       "304   2020-01-27\n",
       "305   2020-02-03\n",
       "306   2020-02-10\n",
       "307   2020-02-17\n",
       "308   2020-02-24\n",
       "309   2020-03-02\n",
       "310   2020-03-09\n",
       "311   2020-03-16\n",
       "312   2020-03-23\n",
       "313   2020-03-30\n",
       "Name: Date, dtype: datetime64[ns]"
      ]
     },
     "execution_count": 77,
     "metadata": {},
     "output_type": "execute_result"
    }
   ],
   "source": [
    "stock_prices['Date']"
   ]
  },
  {
   "cell_type": "code",
   "execution_count": 78,
   "id": "637ae349",
   "metadata": {},
   "outputs": [
    {
     "data": {
      "text/plain": [
       "Text(0, 0.5, 'Price')"
      ]
     },
     "execution_count": 78,
     "metadata": {},
     "output_type": "execute_result"
    },
    {
     "data": {
      "image/png": "[encoded data removed]",
      "text/plain": [
       "<Figure size 720x360 with 1 Axes>"
      ]
     },
     "metadata": {
      "needs_background": "light"
     },
     "output_type": "display_data"
    }
   ],
   "source": [
    "plt.figure(figsize=(10,5))\n",
    "plt.plot(stock_prices['Date'],stock_prices['Infosys'])\n",
    "plt.plot(stock_prices['Date'],stock_prices['Axis_Bank'])\n",
    "plt.legend([\"Infosys\", \"Axis Bank\"])\n",
    "plt.title(\"Stock Price Graph - Infosys & Axis Bank\")\n",
    "plt.xlabel(\"Date\")\n",
    "plt.ylabel(\"Price\")"
   ]
  },
  {
   "cell_type": "code",
   "execution_count": 79,
   "id": "de7d99d8",
   "metadata": {},
   "outputs": [
    {
     "data": {
      "text/html": [
       "<div>\n",
       "<style scoped>\n",
       "    .dataframe tbody tr th:only-of-type {\n",
       "        vertical-align: middle;\n",
       "    }\n",
       "\n",
       "    .dataframe tbody tr th {\n",
       "        vertical-align: top;\n",
       "    }\n",
       "\n",
       "    .dataframe thead th {\n",
       "        text-align: right;\n",
       "    }\n",
       "</style>\n",
       "<table border=\"1\" class=\"dataframe\">\n",
       "  <thead>\n",
       "    <tr style=\"text-align: right;\">\n",
       "      <th></th>\n",
       "      <th>Date</th>\n",
       "      <th>Infosys</th>\n",
       "      <th>Indian_Hotel</th>\n",
       "      <th>Mahindra</th>\n",
       "      <th>Axis_Bank</th>\n",
       "      <th>SAIL</th>\n",
       "      <th>Shree_Cement</th>\n",
       "      <th>Sun_Pharma</th>\n",
       "      <th>Jindal_Steel</th>\n",
       "      <th>Idea_Vodafone</th>\n",
       "      <th>Jet_Airways</th>\n",
       "    </tr>\n",
       "  </thead>\n",
       "  <tbody>\n",
       "    <tr>\n",
       "      <th>0</th>\n",
       "      <td>2014-03-31</td>\n",
       "      <td>264</td>\n",
       "      <td>69</td>\n",
       "      <td>455</td>\n",
       "      <td>263</td>\n",
       "      <td>68</td>\n",
       "      <td>5543</td>\n",
       "      <td>555</td>\n",
       "      <td>298</td>\n",
       "      <td>83</td>\n",
       "      <td>278</td>\n",
       "    </tr>\n",
       "    <tr>\n",
       "      <th>1</th>\n",
       "      <td>2014-04-07</td>\n",
       "      <td>257</td>\n",
       "      <td>68</td>\n",
       "      <td>458</td>\n",
       "      <td>276</td>\n",
       "      <td>70</td>\n",
       "      <td>5728</td>\n",
       "      <td>610</td>\n",
       "      <td>279</td>\n",
       "      <td>84</td>\n",
       "      <td>303</td>\n",
       "    </tr>\n",
       "    <tr>\n",
       "      <th>2</th>\n",
       "      <td>2014-04-14</td>\n",
       "      <td>254</td>\n",
       "      <td>68</td>\n",
       "      <td>454</td>\n",
       "      <td>270</td>\n",
       "      <td>68</td>\n",
       "      <td>5649</td>\n",
       "      <td>607</td>\n",
       "      <td>279</td>\n",
       "      <td>83</td>\n",
       "      <td>280</td>\n",
       "    </tr>\n",
       "    <tr>\n",
       "      <th>3</th>\n",
       "      <td>2014-04-21</td>\n",
       "      <td>253</td>\n",
       "      <td>68</td>\n",
       "      <td>488</td>\n",
       "      <td>283</td>\n",
       "      <td>68</td>\n",
       "      <td>5692</td>\n",
       "      <td>604</td>\n",
       "      <td>274</td>\n",
       "      <td>83</td>\n",
       "      <td>282</td>\n",
       "    </tr>\n",
       "    <tr>\n",
       "      <th>4</th>\n",
       "      <td>2014-04-28</td>\n",
       "      <td>256</td>\n",
       "      <td>65</td>\n",
       "      <td>482</td>\n",
       "      <td>282</td>\n",
       "      <td>63</td>\n",
       "      <td>5582</td>\n",
       "      <td>611</td>\n",
       "      <td>238</td>\n",
       "      <td>79</td>\n",
       "      <td>243</td>\n",
       "    </tr>\n",
       "  </tbody>\n",
       "</table>\n",
       "</div>"
      ],
      "text/plain": [
       "        Date  Infosys  Indian_Hotel  Mahindra  Axis_Bank  SAIL  Shree_Cement  \\\n",
       "0 2014-03-31      264            69       455        263    68          5543   \n",
       "1 2014-04-07      257            68       458        276    70          5728   \n",
       "2 2014-04-14      254            68       454        270    68          5649   \n",
       "3 2014-04-21      253            68       488        283    68          5692   \n",
       "4 2014-04-28      256            65       482        282    63          5582   \n",
       "\n",
       "   Sun_Pharma  Jindal_Steel  Idea_Vodafone  Jet_Airways  \n",
       "0         555           298             83          278  \n",
       "1         610           279             84          303  \n",
       "2         607           279             83          280  \n",
       "3         604           274             83          282  \n",
       "4         611           238             79          243  "
      ]
     },
     "execution_count": 79,
     "metadata": {},
     "output_type": "execute_result"
    }
   ],
   "source": [
    "stock_prices.head()"
   ]
  },
  {
   "cell_type": "code",
   "execution_count": 80,
   "id": "560ebafa",
   "metadata": {},
   "outputs": [
    {
     "data": {
      "text/plain": [
       "Infosys            511.340764\n",
       "Indian_Hotel       114.560510\n",
       "Mahindra           636.678344\n",
       "Axis_Bank          540.742038\n",
       "SAIL                59.095541\n",
       "Shree_Cement     14806.410828\n",
       "Sun_Pharma         633.468153\n",
       "Jindal_Steel       147.627389\n",
       "Idea_Vodafone       53.713376\n",
       "Jet_Airways        372.659236\n",
       "dtype: float64"
      ]
     },
     "execution_count": 80,
     "metadata": {},
     "output_type": "execute_result"
    }
   ],
   "source": [
    "stock_prices.mean()"
   ]
  },
  {
   "cell_type": "code",
   "execution_count": 81,
   "id": "7b7d2d6c",
   "metadata": {},
   "outputs": [
    {
     "data": {
      "text/plain": [
       "Date             635 days 12:25:12.489003056\n",
       "Infosys                           135.952051\n",
       "Indian_Hotel                       22.509732\n",
       "Mahindra                          102.879975\n",
       "Axis_Bank                         115.835569\n",
       "SAIL                               15.810493\n",
       "Shree_Cement                     4288.275085\n",
       "Sun_Pharma                        171.855893\n",
       "Jindal_Steel                       65.879195\n",
       "Idea_Vodafone                      31.248985\n",
       "Jet_Airways                       202.262668\n",
       "dtype: object"
      ]
     },
     "execution_count": 81,
     "metadata": {},
     "output_type": "execute_result"
    }
   ],
   "source": [
    "stock_prices.std()"
   ]
  },
  {
   "cell_type": "code",
   "execution_count": 82,
   "id": "6fbe1c02",
   "metadata": {},
   "outputs": [],
   "source": [
    "df = pd.DataFrame()"
   ]
  },
  {
   "cell_type": "code",
   "execution_count": 83,
   "id": "3d278e86",
   "metadata": {},
   "outputs": [],
   "source": [
    "stock_returns = np.log(stock_prices.drop(['Date'],axis=1)).diff(axis = 0, periods = 1) "
   ]
  },
  {
   "cell_type": "code",
   "execution_count": 84,
   "id": "5fb13e27",
   "metadata": {},
   "outputs": [
    {
     "data": {
      "text/plain": [
       "(314, 10)"
      ]
     },
     "execution_count": 84,
     "metadata": {},
     "output_type": "execute_result"
    }
   ],
   "source": [
    "stock_returns.shape"
   ]
  },
  {
   "cell_type": "code",
   "execution_count": 85,
   "id": "870a75f8",
   "metadata": {},
   "outputs": [
    {
     "data": {
      "text/html": [
       "<div>\n",
       "<style scoped>\n",
       "    .dataframe tbody tr th:only-of-type {\n",
       "        vertical-align: middle;\n",
       "    }\n",
       "\n",
       "    .dataframe tbody tr th {\n",
       "        vertical-align: top;\n",
       "    }\n",
       "\n",
       "    .dataframe thead th {\n",
       "        text-align: right;\n",
       "    }\n",
       "</style>\n",
       "<table border=\"1\" class=\"dataframe\">\n",
       "  <thead>\n",
       "    <tr style=\"text-align: right;\">\n",
       "      <th></th>\n",
       "      <th>Infosys</th>\n",
       "      <th>Indian_Hotel</th>\n",
       "      <th>Mahindra</th>\n",
       "      <th>Axis_Bank</th>\n",
       "      <th>SAIL</th>\n",
       "      <th>Shree_Cement</th>\n",
       "      <th>Sun_Pharma</th>\n",
       "      <th>Jindal_Steel</th>\n",
       "      <th>Idea_Vodafone</th>\n",
       "      <th>Jet_Airways</th>\n",
       "    </tr>\n",
       "  </thead>\n",
       "  <tbody>\n",
       "    <tr>\n",
       "      <th>0</th>\n",
       "      <td>NaN</td>\n",
       "      <td>NaN</td>\n",
       "      <td>NaN</td>\n",
       "      <td>NaN</td>\n",
       "      <td>NaN</td>\n",
       "      <td>NaN</td>\n",
       "      <td>NaN</td>\n",
       "      <td>NaN</td>\n",
       "      <td>NaN</td>\n",
       "      <td>NaN</td>\n",
       "    </tr>\n",
       "    <tr>\n",
       "      <th>1</th>\n",
       "      <td>-0.026873</td>\n",
       "      <td>-0.014599</td>\n",
       "      <td>0.006572</td>\n",
       "      <td>0.048247</td>\n",
       "      <td>0.028988</td>\n",
       "      <td>0.032831</td>\n",
       "      <td>0.094491</td>\n",
       "      <td>-0.065882</td>\n",
       "      <td>0.011976</td>\n",
       "      <td>0.086112</td>\n",
       "    </tr>\n",
       "    <tr>\n",
       "      <th>2</th>\n",
       "      <td>-0.011742</td>\n",
       "      <td>0.000000</td>\n",
       "      <td>-0.008772</td>\n",
       "      <td>-0.021979</td>\n",
       "      <td>-0.028988</td>\n",
       "      <td>-0.013888</td>\n",
       "      <td>-0.004930</td>\n",
       "      <td>0.000000</td>\n",
       "      <td>-0.011976</td>\n",
       "      <td>-0.078943</td>\n",
       "    </tr>\n",
       "    <tr>\n",
       "      <th>3</th>\n",
       "      <td>-0.003945</td>\n",
       "      <td>0.000000</td>\n",
       "      <td>0.072218</td>\n",
       "      <td>0.047025</td>\n",
       "      <td>0.000000</td>\n",
       "      <td>0.007583</td>\n",
       "      <td>-0.004955</td>\n",
       "      <td>-0.018084</td>\n",
       "      <td>0.000000</td>\n",
       "      <td>0.007117</td>\n",
       "    </tr>\n",
       "    <tr>\n",
       "      <th>4</th>\n",
       "      <td>0.011788</td>\n",
       "      <td>-0.045120</td>\n",
       "      <td>-0.012371</td>\n",
       "      <td>-0.003540</td>\n",
       "      <td>-0.076373</td>\n",
       "      <td>-0.019515</td>\n",
       "      <td>0.011523</td>\n",
       "      <td>-0.140857</td>\n",
       "      <td>-0.049393</td>\n",
       "      <td>-0.148846</td>\n",
       "    </tr>\n",
       "  </tbody>\n",
       "</table>\n",
       "</div>"
      ],
      "text/plain": [
       "    Infosys  Indian_Hotel  Mahindra  Axis_Bank      SAIL  Shree_Cement  \\\n",
       "0       NaN           NaN       NaN        NaN       NaN           NaN   \n",
       "1 -0.026873     -0.014599  0.006572   0.048247  0.028988      0.032831   \n",
       "2 -0.011742      0.000000 -0.008772  -0.021979 -0.028988     -0.013888   \n",
       "3 -0.003945      0.000000  0.072218   0.047025  0.000000      0.007583   \n",
       "4  0.011788     -0.045120 -0.012371  -0.003540 -0.076373     -0.019515   \n",
       "\n",
       "   Sun_Pharma  Jindal_Steel  Idea_Vodafone  Jet_Airways  \n",
       "0         NaN           NaN            NaN          NaN  \n",
       "1    0.094491     -0.065882       0.011976     0.086112  \n",
       "2   -0.004930      0.000000      -0.011976    -0.078943  \n",
       "3   -0.004955     -0.018084       0.000000     0.007117  \n",
       "4    0.011523     -0.140857      -0.049393    -0.148846  "
      ]
     },
     "execution_count": 85,
     "metadata": {},
     "output_type": "execute_result"
    }
   ],
   "source": [
    "stock_returns.head()"
   ]
  },
  {
   "cell_type": "code",
   "execution_count": 86,
   "id": "96cfe5ef",
   "metadata": {},
   "outputs": [
    {
     "data": {
      "text/plain": [
       "Index(['Infosys', 'Indian_Hotel', 'Mahindra', 'Axis_Bank', 'SAIL',\n",
       "       'Shree_Cement', 'Sun_Pharma', 'Jindal_Steel', 'Idea_Vodafone',\n",
       "       'Jet_Airways'],\n",
       "      dtype='object')"
      ]
     },
     "execution_count": 86,
     "metadata": {},
     "output_type": "execute_result"
    }
   ],
   "source": [
    "stock_returns.columns"
   ]
  },
  {
   "cell_type": "code",
   "execution_count": 87,
   "id": "0dca2e84",
   "metadata": {},
   "outputs": [
    {
     "data": {
      "text/plain": [
       "<AxesSubplot:>"
      ]
     },
     "execution_count": 87,
     "metadata": {},
     "output_type": "execute_result"
    },
    {
     "data": {
      "image/png": "[encoded data removed]",
      "text/plain": [
       "<Figure size 720x576 with 1 Axes>"
      ]
     },
     "metadata": {
      "needs_background": "light"
     },
     "output_type": "display_data"
    }
   ],
   "source": [
    "stock_returns.plot(figsize=(10,8))"
   ]
  },
  {
   "cell_type": "code",
   "execution_count": 89,
   "id": "454ffc2c",
   "metadata": {},
   "outputs": [
    {
     "data": {
      "text/plain": [
       "Infosys          0.002794\n",
       "Indian_Hotel     0.000266\n",
       "Mahindra        -0.001506\n",
       "Axis_Bank        0.001167\n",
       "SAIL            -0.003463\n",
       "Shree_Cement     0.003681\n",
       "Sun_Pharma      -0.001455\n",
       "Jindal_Steel    -0.004123\n",
       "Idea_Vodafone   -0.010608\n",
       "Jet_Airways     -0.009548\n",
       "dtype: float64"
      ]
     },
     "execution_count": 89,
     "metadata": {},
     "output_type": "execute_result"
    }
   ],
   "source": [
    "stock_means = stock_returns.mean(axis = 0)\n",
    "stock_means"
   ]
  },
  {
   "cell_type": "code",
   "execution_count": 90,
   "id": "0fc654f8",
   "metadata": {},
   "outputs": [
    {
     "data": {
      "text/plain": [
       "Infosys          0.035070\n",
       "Indian_Hotel     0.047131\n",
       "Mahindra         0.040169\n",
       "Axis_Bank        0.045828\n",
       "SAIL             0.062188\n",
       "Shree_Cement     0.039917\n",
       "Sun_Pharma       0.045033\n",
       "Jindal_Steel     0.075108\n",
       "Idea_Vodafone    0.104315\n",
       "Jet_Airways      0.097972\n",
       "dtype: float64"
      ]
     },
     "execution_count": 90,
     "metadata": {},
     "output_type": "execute_result"
    }
   ],
   "source": [
    "stock_sd = stock_returns.std(axis = 0)\n",
    "stock_sd"
   ]
  },
  {
   "cell_type": "code",
   "execution_count": 91,
   "id": "38efc34f",
   "metadata": {},
   "outputs": [],
   "source": [
    "df = pd.DataFrame({'Average':stock_means, 'Volatility': stock_sd})"
   ]
  },
  {
   "cell_type": "code",
   "execution_count": 92,
   "id": "345bfe85",
   "metadata": {},
   "outputs": [
    {
     "data": {
      "text/html": [
       "<div>\n",
       "<style scoped>\n",
       "    .dataframe tbody tr th:only-of-type {\n",
       "        vertical-align: middle;\n",
       "    }\n",
       "\n",
       "    .dataframe tbody tr th {\n",
       "        vertical-align: top;\n",
       "    }\n",
       "\n",
       "    .dataframe thead th {\n",
       "        text-align: right;\n",
       "    }\n",
       "</style>\n",
       "<table border=\"1\" class=\"dataframe\">\n",
       "  <thead>\n",
       "    <tr style=\"text-align: right;\">\n",
       "      <th></th>\n",
       "      <th>Average</th>\n",
       "      <th>Volatility</th>\n",
       "    </tr>\n",
       "  </thead>\n",
       "  <tbody>\n",
       "    <tr>\n",
       "      <th>Idea_Vodafone</th>\n",
       "      <td>-0.010608</td>\n",
       "      <td>0.104315</td>\n",
       "    </tr>\n",
       "    <tr>\n",
       "      <th>Jet_Airways</th>\n",
       "      <td>-0.009548</td>\n",
       "      <td>0.097972</td>\n",
       "    </tr>\n",
       "    <tr>\n",
       "      <th>Jindal_Steel</th>\n",
       "      <td>-0.004123</td>\n",
       "      <td>0.075108</td>\n",
       "    </tr>\n",
       "    <tr>\n",
       "      <th>SAIL</th>\n",
       "      <td>-0.003463</td>\n",
       "      <td>0.062188</td>\n",
       "    </tr>\n",
       "    <tr>\n",
       "      <th>Indian_Hotel</th>\n",
       "      <td>0.000266</td>\n",
       "      <td>0.047131</td>\n",
       "    </tr>\n",
       "    <tr>\n",
       "      <th>Axis_Bank</th>\n",
       "      <td>0.001167</td>\n",
       "      <td>0.045828</td>\n",
       "    </tr>\n",
       "    <tr>\n",
       "      <th>Sun_Pharma</th>\n",
       "      <td>-0.001455</td>\n",
       "      <td>0.045033</td>\n",
       "    </tr>\n",
       "    <tr>\n",
       "      <th>Mahindra</th>\n",
       "      <td>-0.001506</td>\n",
       "      <td>0.040169</td>\n",
       "    </tr>\n",
       "    <tr>\n",
       "      <th>Shree_Cement</th>\n",
       "      <td>0.003681</td>\n",
       "      <td>0.039917</td>\n",
       "    </tr>\n",
       "    <tr>\n",
       "      <th>Infosys</th>\n",
       "      <td>0.002794</td>\n",
       "      <td>0.035070</td>\n",
       "    </tr>\n",
       "  </tbody>\n",
       "</table>\n",
       "</div>"
      ],
      "text/plain": [
       "                Average  Volatility\n",
       "Idea_Vodafone -0.010608    0.104315\n",
       "Jet_Airways   -0.009548    0.097972\n",
       "Jindal_Steel  -0.004123    0.075108\n",
       "SAIL          -0.003463    0.062188\n",
       "Indian_Hotel   0.000266    0.047131\n",
       "Axis_Bank      0.001167    0.045828\n",
       "Sun_Pharma    -0.001455    0.045033\n",
       "Mahindra      -0.001506    0.040169\n",
       "Shree_Cement   0.003681    0.039917\n",
       "Infosys        0.002794    0.035070"
      ]
     },
     "execution_count": 92,
     "metadata": {},
     "output_type": "execute_result"
    }
   ],
   "source": [
    "df.sort_values(by='Volatility',ascending=False)"
   ]
  },
  {
   "cell_type": "code",
   "execution_count": 93,
   "id": "aef2e63a",
   "metadata": {},
   "outputs": [
    {
     "data": {
      "image/png": "[encoded data removed]",
      "text/plain": [
       "<Figure size 720x576 with 1 Axes>"
      ]
     },
     "metadata": {
      "needs_background": "light"
     },
     "output_type": "display_data"
    }
   ],
   "source": [
    "plt.figure(figsize=(10,8))\n",
    "df.Average.plot()\n",
    "df.Volatility.plot()\n",
    "plt.legend(['Mean','Std.Deviation'])\n",
    "plt.show()"
   ]
  },
  {
   "cell_type": "code",
   "execution_count": 94,
   "id": "26678111",
   "metadata": {},
   "outputs": [
    {
     "data": {
      "text/plain": [
       "Text(0.5, 1.0, 'Mean of all stocks')"
      ]
     },
     "execution_count": 94,
     "metadata": {},
     "output_type": "execute_result"
    },
    {
     "data": {
      "image/png": "[encoded data removed]",
      "text/plain": [
       "<Figure size 432x288 with 1 Axes>"
      ]
     },
     "metadata": {
      "needs_background": "light"
     },
     "output_type": "display_data"
    }
   ],
   "source": [
    "df['positive']=df['Average']>0\n",
    "df['Average'].plot(kind='bar',color=df.positive.map({True: 'g', False: 'r'}))\n",
    "plt.legend([\"Mean\", \"Std. Deviation\"])\n",
    "plt.title(\"Mean of all stocks\")"
   ]
  },
  {
   "cell_type": "code",
   "execution_count": 95,
   "id": "ad01206c",
   "metadata": {},
   "outputs": [
    {
     "data": {
      "text/plain": [
       "Text(0.5, 1.0, 'Std. Dev for all stocks')"
      ]
     },
     "execution_count": 95,
     "metadata": {},
     "output_type": "execute_result"
    },
    {
     "data": {
      "image/png": "[encoded data removed]",
      "text/plain": [
       "<Figure size 432x288 with 1 Axes>"
      ]
     },
     "metadata": {
      "needs_background": "light"
     },
     "output_type": "display_data"
    }
   ],
   "source": [
    "df['positive1']=df['Volatility']<=0.05\n",
    "df['Volatility'].plot(kind='bar',color=df.positive1.map({True: 'g', False: 'r'}))\n",
    "plt.title(\"Std. Dev for all stocks\")"
   ]
  },
  {
   "cell_type": "code",
   "execution_count": 96,
   "id": "6fbb5f79",
   "metadata": {},
   "outputs": [
    {
     "data": {
      "image/png": "[encoded data removed]",
      "text/plain": [
       "<Figure size 432x288 with 1 Axes>"
      ]
     },
     "metadata": {
      "needs_background": "light"
     },
     "output_type": "display_data"
    }
   ],
   "source": [
    "#plt.scatter(stock_sd, stock_means, edgecolors='r')\n",
    "plot = sns.scatterplot(df['Volatility'], df['Average'])\n",
    "plot.axvline(x=0.00,linestyle='--', color = \"red\")\n",
    "plot.axhline(y=0.00,linestyle='--', color = \"red\")\n",
    "plt.show()"
   ]
  },
  {
   "cell_type": "code",
   "execution_count": 97,
   "id": "2f2a5fa7",
   "metadata": {},
   "outputs": [
    {
     "data": {
      "text/html": [
       "<div>\n",
       "<style scoped>\n",
       "    .dataframe tbody tr th:only-of-type {\n",
       "        vertical-align: middle;\n",
       "    }\n",
       "\n",
       "    .dataframe tbody tr th {\n",
       "        vertical-align: top;\n",
       "    }\n",
       "\n",
       "    .dataframe thead th {\n",
       "        text-align: right;\n",
       "    }\n",
       "</style>\n",
       "<table border=\"1\" class=\"dataframe\">\n",
       "  <thead>\n",
       "    <tr style=\"text-align: right;\">\n",
       "      <th></th>\n",
       "      <th>Average</th>\n",
       "      <th>Volatility</th>\n",
       "      <th>positive</th>\n",
       "      <th>positive1</th>\n",
       "    </tr>\n",
       "  </thead>\n",
       "  <tbody>\n",
       "    <tr>\n",
       "      <th>Infosys</th>\n",
       "      <td>0.002794</td>\n",
       "      <td>0.035070</td>\n",
       "      <td>True</td>\n",
       "      <td>True</td>\n",
       "    </tr>\n",
       "    <tr>\n",
       "      <th>Shree_Cement</th>\n",
       "      <td>0.003681</td>\n",
       "      <td>0.039917</td>\n",
       "      <td>True</td>\n",
       "      <td>True</td>\n",
       "    </tr>\n",
       "    <tr>\n",
       "      <th>Axis_Bank</th>\n",
       "      <td>0.001167</td>\n",
       "      <td>0.045828</td>\n",
       "      <td>True</td>\n",
       "      <td>True</td>\n",
       "    </tr>\n",
       "    <tr>\n",
       "      <th>Indian_Hotel</th>\n",
       "      <td>0.000266</td>\n",
       "      <td>0.047131</td>\n",
       "      <td>True</td>\n",
       "      <td>True</td>\n",
       "    </tr>\n",
       "  </tbody>\n",
       "</table>\n",
       "</div>"
      ],
      "text/plain": [
       "               Average  Volatility  positive  positive1\n",
       "Infosys       0.002794    0.035070      True       True\n",
       "Shree_Cement  0.003681    0.039917      True       True\n",
       "Axis_Bank     0.001167    0.045828      True       True\n",
       "Indian_Hotel  0.000266    0.047131      True       True"
      ]
     },
     "execution_count": 97,
     "metadata": {},
     "output_type": "execute_result"
    }
   ],
   "source": [
    "df[df['Average'] > 0].sort_values(by = 'Volatility')"
   ]
  },
  {
   "cell_type": "markdown",
   "id": "9a96e18f",
   "metadata": {},
   "source": [
    "THE END!!!!"
   ]
  },
  {
   "cell_type": "code",
   "execution_count": null,
   "id": "3c46ad81",
   "metadata": {},
   "outputs": [],
   "source": []
  }
 ],
 "metadata": {
  "kernelspec": {
   "display_name": "Python 3",
   "language": "python",
   "name": "python3"
  },
  "language_info": {
   "codemirror_mode": {
    "name": "ipython",
    "version": 3
   },
   "file_extension": ".py",
   "mimetype": "text/x-python",
   "name": "python",
   "nbconvert_exporter": "python",
   "pygments_lexer": "ipython3",
   "version": "3.8.8"
  }
 },
 "nbformat": 4,
 "nbformat_minor": 5
}
